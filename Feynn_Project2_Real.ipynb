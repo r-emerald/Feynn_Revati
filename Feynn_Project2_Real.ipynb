{
  "nbformat": 4,
  "nbformat_minor": 0,
  "metadata": {
    "colab": {
      "name": "Feynn_Project2_Real.ipynb",
      "provenance": [],
      "collapsed_sections": [
        "xogwIJJ-p3-I",
        "6OOzEi8YqFQV",
        "2gIJiSXYNcxu"
      ]
    },
    "kernelspec": {
      "name": "python3",
      "display_name": "Python 3"
    },
    "language_info": {
      "name": "python"
    }
  },
  "cells": [
    {
      "cell_type": "code",
      "source": [
        "import numpy as np\n",
        "import pandas as pd\n",
        "import seaborn as sns\n",
        "import matplotlib.pyplot as plt"
      ],
      "metadata": {
        "id": "-Kv_tSseErCE"
      },
      "execution_count": 1,
      "outputs": []
    },
    {
      "cell_type": "markdown",
      "source": [
        "# Market Dynamics w.r.t. EV Vehicle Type and Geography"
      ],
      "metadata": {
        "id": "xogwIJJ-p3-I"
      }
    },
    {
      "cell_type": "code",
      "source": [
        "from google.colab import drive\n",
        "drive.mount('/content/gdrive')\n",
        "df=pd.read_csv('gdrive/My Drive/10x/EV_geo_vehitype.csv')\n",
        "df.head()"
      ],
      "metadata": {
        "id": "5Bw2p9_s1ODh",
        "colab": {
          "base_uri": "https://localhost:8080/",
          "height": 320
        },
        "outputId": "8a4b9bdb-3e08-46d7-edd9-000e6ef4c864"
      },
      "execution_count": 2,
      "outputs": [
        {
          "output_type": "stream",
          "name": "stdout",
          "text": [
            "Mounted at /content/gdrive\n"
          ]
        },
        {
          "output_type": "execute_result",
          "data": {
            "text/plain": [
              "   Sl. No           State  \\\n",
              "0       1  Andhra Pradesh   \n",
              "1       2           Assam   \n",
              "2       3           Bihar   \n",
              "3       4    Chhattisgarh   \n",
              "4       5           Delhi   \n",
              "\n",
              "   Two Wheelers (Category L1 & L2 as per Central Motor Vehicles Rules  \\\n",
              "0                                                431                    \n",
              "1                                                463                    \n",
              "2                                                252                    \n",
              "3                                                613                    \n",
              "4                                               1395                    \n",
              "\n",
              "   Two Wheelers (Category L2 (CMVR))  \\\n",
              "0                                692   \n",
              "1                                138   \n",
              "2                                430   \n",
              "3                                382   \n",
              "4                                251   \n",
              "\n",
              "   Two Wheelers (Max power not exceeding 250 Watts)  \\\n",
              "0                                              4689   \n",
              "1                                              1006   \n",
              "2                                              2148   \n",
              "3                                              2078   \n",
              "4                                              5018   \n",
              "\n",
              "   Three Wheelers (Category L5 slow speed as per CMVR)  \\\n",
              "0                                                  0     \n",
              "1                                                  0     \n",
              "2                                                  6     \n",
              "3                                                 58     \n",
              "4                                                  0     \n",
              "\n",
              "   Three Wheelers (Category L5 as per CMVR)  \\\n",
              "0                                         0   \n",
              "1                                       117   \n",
              "2                                        64   \n",
              "3                                       106   \n",
              "4                                         1   \n",
              "\n",
              "   Passenger Cars (Category M1 as per CMVR)  Buses  Total in state  \n",
              "0                                      3680      0            9492  \n",
              "1                                       151      0            1875  \n",
              "2                                       271      0            3171  \n",
              "3                                       997      0            4234  \n",
              "4                                     12695     21           19381  "
            ],
            "text/html": [
              "\n",
              "  <div id=\"df-8deb4292-8508-4c25-afe3-86f0125ec55d\">\n",
              "    <div class=\"colab-df-container\">\n",
              "      <div>\n",
              "<style scoped>\n",
              "    .dataframe tbody tr th:only-of-type {\n",
              "        vertical-align: middle;\n",
              "    }\n",
              "\n",
              "    .dataframe tbody tr th {\n",
              "        vertical-align: top;\n",
              "    }\n",
              "\n",
              "    .dataframe thead th {\n",
              "        text-align: right;\n",
              "    }\n",
              "</style>\n",
              "<table border=\"1\" class=\"dataframe\">\n",
              "  <thead>\n",
              "    <tr style=\"text-align: right;\">\n",
              "      <th></th>\n",
              "      <th>Sl. No</th>\n",
              "      <th>State</th>\n",
              "      <th>Two Wheelers (Category L1 &amp; L2 as per Central Motor Vehicles Rules</th>\n",
              "      <th>Two Wheelers (Category L2 (CMVR))</th>\n",
              "      <th>Two Wheelers (Max power not exceeding 250 Watts)</th>\n",
              "      <th>Three Wheelers (Category L5 slow speed as per CMVR)</th>\n",
              "      <th>Three Wheelers (Category L5 as per CMVR)</th>\n",
              "      <th>Passenger Cars (Category M1 as per CMVR)</th>\n",
              "      <th>Buses</th>\n",
              "      <th>Total in state</th>\n",
              "    </tr>\n",
              "  </thead>\n",
              "  <tbody>\n",
              "    <tr>\n",
              "      <th>0</th>\n",
              "      <td>1</td>\n",
              "      <td>Andhra Pradesh</td>\n",
              "      <td>431</td>\n",
              "      <td>692</td>\n",
              "      <td>4689</td>\n",
              "      <td>0</td>\n",
              "      <td>0</td>\n",
              "      <td>3680</td>\n",
              "      <td>0</td>\n",
              "      <td>9492</td>\n",
              "    </tr>\n",
              "    <tr>\n",
              "      <th>1</th>\n",
              "      <td>2</td>\n",
              "      <td>Assam</td>\n",
              "      <td>463</td>\n",
              "      <td>138</td>\n",
              "      <td>1006</td>\n",
              "      <td>0</td>\n",
              "      <td>117</td>\n",
              "      <td>151</td>\n",
              "      <td>0</td>\n",
              "      <td>1875</td>\n",
              "    </tr>\n",
              "    <tr>\n",
              "      <th>2</th>\n",
              "      <td>3</td>\n",
              "      <td>Bihar</td>\n",
              "      <td>252</td>\n",
              "      <td>430</td>\n",
              "      <td>2148</td>\n",
              "      <td>6</td>\n",
              "      <td>64</td>\n",
              "      <td>271</td>\n",
              "      <td>0</td>\n",
              "      <td>3171</td>\n",
              "    </tr>\n",
              "    <tr>\n",
              "      <th>3</th>\n",
              "      <td>4</td>\n",
              "      <td>Chhattisgarh</td>\n",
              "      <td>613</td>\n",
              "      <td>382</td>\n",
              "      <td>2078</td>\n",
              "      <td>58</td>\n",
              "      <td>106</td>\n",
              "      <td>997</td>\n",
              "      <td>0</td>\n",
              "      <td>4234</td>\n",
              "    </tr>\n",
              "    <tr>\n",
              "      <th>4</th>\n",
              "      <td>5</td>\n",
              "      <td>Delhi</td>\n",
              "      <td>1395</td>\n",
              "      <td>251</td>\n",
              "      <td>5018</td>\n",
              "      <td>0</td>\n",
              "      <td>1</td>\n",
              "      <td>12695</td>\n",
              "      <td>21</td>\n",
              "      <td>19381</td>\n",
              "    </tr>\n",
              "  </tbody>\n",
              "</table>\n",
              "</div>\n",
              "      <button class=\"colab-df-convert\" onclick=\"convertToInteractive('df-8deb4292-8508-4c25-afe3-86f0125ec55d')\"\n",
              "              title=\"Convert this dataframe to an interactive table.\"\n",
              "              style=\"display:none;\">\n",
              "        \n",
              "  <svg xmlns=\"http://www.w3.org/2000/svg\" height=\"24px\"viewBox=\"0 0 24 24\"\n",
              "       width=\"24px\">\n",
              "    <path d=\"M0 0h24v24H0V0z\" fill=\"none\"/>\n",
              "    <path d=\"M18.56 5.44l.94 2.06.94-2.06 2.06-.94-2.06-.94-.94-2.06-.94 2.06-2.06.94zm-11 1L8.5 8.5l.94-2.06 2.06-.94-2.06-.94L8.5 2.5l-.94 2.06-2.06.94zm10 10l.94 2.06.94-2.06 2.06-.94-2.06-.94-.94-2.06-.94 2.06-2.06.94z\"/><path d=\"M17.41 7.96l-1.37-1.37c-.4-.4-.92-.59-1.43-.59-.52 0-1.04.2-1.43.59L10.3 9.45l-7.72 7.72c-.78.78-.78 2.05 0 2.83L4 21.41c.39.39.9.59 1.41.59.51 0 1.02-.2 1.41-.59l7.78-7.78 2.81-2.81c.8-.78.8-2.07 0-2.86zM5.41 20L4 18.59l7.72-7.72 1.47 1.35L5.41 20z\"/>\n",
              "  </svg>\n",
              "      </button>\n",
              "      \n",
              "  <style>\n",
              "    .colab-df-container {\n",
              "      display:flex;\n",
              "      flex-wrap:wrap;\n",
              "      gap: 12px;\n",
              "    }\n",
              "\n",
              "    .colab-df-convert {\n",
              "      background-color: #E8F0FE;\n",
              "      border: none;\n",
              "      border-radius: 50%;\n",
              "      cursor: pointer;\n",
              "      display: none;\n",
              "      fill: #1967D2;\n",
              "      height: 32px;\n",
              "      padding: 0 0 0 0;\n",
              "      width: 32px;\n",
              "    }\n",
              "\n",
              "    .colab-df-convert:hover {\n",
              "      background-color: #E2EBFA;\n",
              "      box-shadow: 0px 1px 2px rgba(60, 64, 67, 0.3), 0px 1px 3px 1px rgba(60, 64, 67, 0.15);\n",
              "      fill: #174EA6;\n",
              "    }\n",
              "\n",
              "    [theme=dark] .colab-df-convert {\n",
              "      background-color: #3B4455;\n",
              "      fill: #D2E3FC;\n",
              "    }\n",
              "\n",
              "    [theme=dark] .colab-df-convert:hover {\n",
              "      background-color: #434B5C;\n",
              "      box-shadow: 0px 1px 3px 1px rgba(0, 0, 0, 0.15);\n",
              "      filter: drop-shadow(0px 1px 2px rgba(0, 0, 0, 0.3));\n",
              "      fill: #FFFFFF;\n",
              "    }\n",
              "  </style>\n",
              "\n",
              "      <script>\n",
              "        const buttonEl =\n",
              "          document.querySelector('#df-8deb4292-8508-4c25-afe3-86f0125ec55d button.colab-df-convert');\n",
              "        buttonEl.style.display =\n",
              "          google.colab.kernel.accessAllowed ? 'block' : 'none';\n",
              "\n",
              "        async function convertToInteractive(key) {\n",
              "          const element = document.querySelector('#df-8deb4292-8508-4c25-afe3-86f0125ec55d');\n",
              "          const dataTable =\n",
              "            await google.colab.kernel.invokeFunction('convertToInteractive',\n",
              "                                                     [key], {});\n",
              "          if (!dataTable) return;\n",
              "\n",
              "          const docLinkHtml = 'Like what you see? Visit the ' +\n",
              "            '<a target=\"_blank\" href=https://colab.research.google.com/notebooks/data_table.ipynb>data table notebook</a>'\n",
              "            + ' to learn more about interactive tables.';\n",
              "          element.innerHTML = '';\n",
              "          dataTable['output_type'] = 'display_data';\n",
              "          await google.colab.output.renderOutput(dataTable, element);\n",
              "          const docLink = document.createElement('div');\n",
              "          docLink.innerHTML = docLinkHtml;\n",
              "          element.appendChild(docLink);\n",
              "        }\n",
              "      </script>\n",
              "    </div>\n",
              "  </div>\n",
              "  "
            ]
          },
          "metadata": {},
          "execution_count": 2
        }
      ]
    },
    {
      "cell_type": "code",
      "source": [
        "df.info()"
      ],
      "metadata": {
        "colab": {
          "base_uri": "https://localhost:8080/"
        },
        "id": "IdKhqY38DO8h",
        "outputId": "7df3f2b0-319e-43fd-ae03-bd5dc7a4c494"
      },
      "execution_count": 3,
      "outputs": [
        {
          "output_type": "stream",
          "name": "stdout",
          "text": [
            "<class 'pandas.core.frame.DataFrame'>\n",
            "RangeIndex: 31 entries, 0 to 30\n",
            "Data columns (total 10 columns):\n",
            " #   Column                                                              Non-Null Count  Dtype \n",
            "---  ------                                                              --------------  ----- \n",
            " 0   Sl. No                                                              31 non-null     int64 \n",
            " 1   State                                                               31 non-null     object\n",
            " 2   Two Wheelers (Category L1 & L2 as per Central Motor Vehicles Rules  31 non-null     int64 \n",
            " 3   Two Wheelers (Category L2 (CMVR))                                   31 non-null     int64 \n",
            " 4   Two Wheelers (Max power not exceeding 250 Watts)                    31 non-null     int64 \n",
            " 5   Three Wheelers (Category L5 slow speed as per CMVR)                 31 non-null     int64 \n",
            " 6   Three Wheelers (Category L5 as per CMVR)                            31 non-null     int64 \n",
            " 7   Passenger Cars (Category M1 as per CMVR)                            31 non-null     int64 \n",
            " 8   Buses                                                               31 non-null     int64 \n",
            " 9   Total in state                                                      31 non-null     int64 \n",
            "dtypes: int64(9), object(1)\n",
            "memory usage: 2.5+ KB\n"
          ]
        }
      ]
    },
    {
      "cell_type": "code",
      "source": [
        "df.isnull().sum()"
      ],
      "metadata": {
        "colab": {
          "base_uri": "https://localhost:8080/"
        },
        "id": "6XtO87mJEQS_",
        "outputId": "569bb6d6-98f7-47e6-8a58-77f0fd0b3663"
      },
      "execution_count": 4,
      "outputs": [
        {
          "output_type": "execute_result",
          "data": {
            "text/plain": [
              "Sl. No                                                                0\n",
              "State                                                                 0\n",
              "Two Wheelers (Category L1 & L2 as per Central Motor Vehicles Rules    0\n",
              "Two Wheelers (Category L2 (CMVR))                                     0\n",
              "Two Wheelers (Max power not exceeding 250 Watts)                      0\n",
              "Three Wheelers (Category L5 slow speed as per CMVR)                   0\n",
              "Three Wheelers (Category L5 as per CMVR)                              0\n",
              "Passenger Cars (Category M1 as per CMVR)                              0\n",
              "Buses                                                                 0\n",
              "Total in state                                                        0\n",
              "dtype: int64"
            ]
          },
          "metadata": {},
          "execution_count": 4
        }
      ]
    },
    {
      "cell_type": "code",
      "source": [
        "data = df.drop(labels=[30], axis=0)\n",
        "data.plot.bar(x='State',y='Total in state', title='State vs Total no. of EVs',figsize=(20,8))"
      ],
      "metadata": {
        "colab": {
          "base_uri": "https://localhost:8080/",
          "height": 658
        },
        "id": "5uv0_l32JYUO",
        "outputId": "f6ac8ef9-f99f-4cce-fa62-c8c698c972cf"
      },
      "execution_count": 5,
      "outputs": [
        {
          "output_type": "execute_result",
          "data": {
            "text/plain": [
              "<matplotlib.axes._subplots.AxesSubplot at 0x7fda45975f90>"
            ]
          },
          "metadata": {},
          "execution_count": 5
        },
        {
          "output_type": "display_data",
          "data": {
            "text/plain": [
              "<Figure size 1440x576 with 1 Axes>"
            ],
            "image/png": "[encoded data removed]"
          },
          "metadata": {
            "needs_background": "light"
          }
        }
      ]
    },
    {
      "cell_type": "code",
      "source": [
        "new = df.drop(df.columns[9],axis=1)\n",
        "new = new.drop(df.columns[0],axis=1)\n",
        "new = new.drop(df.columns[1],axis=1)\n",
        "new_T = new.transpose()\n",
        "new_T"
      ],
      "metadata": {
        "colab": {
          "base_uri": "https://localhost:8080/",
          "height": 342
        },
        "id": "7UN0X7J5KGXh",
        "outputId": "fba65ebb-7748-47bf-80fa-f9f170d5b146"
      },
      "execution_count": 6,
      "outputs": [
        {
          "output_type": "execute_result",
          "data": {
            "text/plain": [
              "                                                      0     1     2     3   \\\n",
              "Two Wheelers (Category L1 & L2 as per Central M...   431   463   252   613   \n",
              "Two Wheelers (Category L2 (CMVR))                    692   138   430   382   \n",
              "Two Wheelers (Max power not exceeding 250 Watts)    4689  1006  2148  2078   \n",
              "Three Wheelers (Category L5 slow speed as per C...     0     0     6    58   \n",
              "Three Wheelers (Category L5 as per CMVR)               0   117    64   106   \n",
              "Passenger Cars (Category M1 as per CMVR)            3680   151   271   997   \n",
              "Buses                                                  0     0     0     0   \n",
              "\n",
              "                                                       4    5      6      7   \\\n",
              "Two Wheelers (Category L1 & L2 as per Central M...   1395    0   7182   3162   \n",
              "Two Wheelers (Category L2 (CMVR))                     251    0    217   1504   \n",
              "Two Wheelers (Max power not exceeding 250 Watts)     5018    0   8476  13908   \n",
              "Three Wheelers (Category L5 slow speed as per C...      0    0      0    113   \n",
              "Three Wheelers (Category L5 as per CMVR)                1    0      4     24   \n",
              "Passenger Cars (Category M1 as per CMVR)            12695  513  15388   4878   \n",
              "Buses                                                  21    1      0      0   \n",
              "\n",
              "                                                    8    9   ...    21    22  \\\n",
              "Two Wheelers (Category L1 & L2 as per Central M...   0    2  ...   491   535   \n",
              "Two Wheelers (Category L2 (CMVR))                    0   76  ...   863   711   \n",
              "Two Wheelers (Max power not exceeding 250 Watts)     0  152  ...  8260  2256   \n",
              "Three Wheelers (Category L5 slow speed as per C...   0    0  ...     0     2   \n",
              "Three Wheelers (Category L5 as per CMVR)             0    0  ...     0     0   \n",
              "Passenger Cars (Category M1 as per CMVR)            98  208  ...  7132  5530   \n",
              "Buses                                                0    0  ...     0     0   \n",
              "\n",
              "                                                    23     24    25     26  \\\n",
              "Two Wheelers (Category L1 & L2 as per Central M...  28   2954   423   1451   \n",
              "Two Wheelers (Category L2 (CMVR))                    9   2355   168     65   \n",
              "Two Wheelers (Max power not exceeding 250 Watts)    36  15199  3239  10781   \n",
              "Three Wheelers (Category L5 slow speed as per C...   0    117    45      3   \n",
              "Three Wheelers (Category L5 as per CMVR)             0    139    38      0   \n",
              "Passenger Cars (Category M1 as per CMVR)             8   5445   265   1840   \n",
              "Buses                                                0      0     0      0   \n",
              "\n",
              "                                                    27   28   29      30  \n",
              "Two Wheelers (Category L1 & L2 as per Central M...   0  612    4   27549  \n",
              "Two Wheelers (Category L2 (CMVR))                    0   18    0   14069  \n",
              "Two Wheelers (Max power not exceeding 250 Watts)     0  896    9  112538  \n",
              "Three Wheelers (Category L5 slow speed as per C...   0    0    0     389  \n",
              "Three Wheelers (Category L5 as per CMVR)             0    0    0     720  \n",
              "Passenger Cars (Category M1 as per CMVR)            82  974  803  105571  \n",
              "Buses                                                0    0    0      27  \n",
              "\n",
              "[7 rows x 31 columns]"
            ],
            "text/html": [
              "\n",
              "  <div id=\"df-81de840e-4328-4ce2-bf8d-769f1c1f4097\">\n",
              "    <div class=\"colab-df-container\">\n",
              "      <div>\n",
              "<style scoped>\n",
              "    .dataframe tbody tr th:only-of-type {\n",
              "        vertical-align: middle;\n",
              "    }\n",
              "\n",
              "    .dataframe tbody tr th {\n",
              "        vertical-align: top;\n",
              "    }\n",
              "\n",
              "    .dataframe thead th {\n",
              "        text-align: right;\n",
              "    }\n",
              "</style>\n",
              "<table border=\"1\" class=\"dataframe\">\n",
              "  <thead>\n",
              "    <tr style=\"text-align: right;\">\n",
              "      <th></th>\n",
              "      <th>0</th>\n",
              "      <th>1</th>\n",
              "      <th>2</th>\n",
              "      <th>3</th>\n",
              "      <th>4</th>\n",
              "      <th>5</th>\n",
              "      <th>6</th>\n",
              "      <th>7</th>\n",
              "      <th>8</th>\n",
              "      <th>9</th>\n",
              "      <th>...</th>\n",
              "      <th>21</th>\n",
              "      <th>22</th>\n",
              "      <th>23</th>\n",
              "      <th>24</th>\n",
              "      <th>25</th>\n",
              "      <th>26</th>\n",
              "      <th>27</th>\n",
              "      <th>28</th>\n",
              "      <th>29</th>\n",
              "      <th>30</th>\n",
              "    </tr>\n",
              "  </thead>\n",
              "  <tbody>\n",
              "    <tr>\n",
              "      <th>Two Wheelers (Category L1 &amp; L2 as per Central Motor Vehicles Rules</th>\n",
              "      <td>431</td>\n",
              "      <td>463</td>\n",
              "      <td>252</td>\n",
              "      <td>613</td>\n",
              "      <td>1395</td>\n",
              "      <td>0</td>\n",
              "      <td>7182</td>\n",
              "      <td>3162</td>\n",
              "      <td>0</td>\n",
              "      <td>2</td>\n",
              "      <td>...</td>\n",
              "      <td>491</td>\n",
              "      <td>535</td>\n",
              "      <td>28</td>\n",
              "      <td>2954</td>\n",
              "      <td>423</td>\n",
              "      <td>1451</td>\n",
              "      <td>0</td>\n",
              "      <td>612</td>\n",
              "      <td>4</td>\n",
              "      <td>27549</td>\n",
              "    </tr>\n",
              "    <tr>\n",
              "      <th>Two Wheelers (Category L2 (CMVR))</th>\n",
              "      <td>692</td>\n",
              "      <td>138</td>\n",
              "      <td>430</td>\n",
              "      <td>382</td>\n",
              "      <td>251</td>\n",
              "      <td>0</td>\n",
              "      <td>217</td>\n",
              "      <td>1504</td>\n",
              "      <td>0</td>\n",
              "      <td>76</td>\n",
              "      <td>...</td>\n",
              "      <td>863</td>\n",
              "      <td>711</td>\n",
              "      <td>9</td>\n",
              "      <td>2355</td>\n",
              "      <td>168</td>\n",
              "      <td>65</td>\n",
              "      <td>0</td>\n",
              "      <td>18</td>\n",
              "      <td>0</td>\n",
              "      <td>14069</td>\n",
              "    </tr>\n",
              "    <tr>\n",
              "      <th>Two Wheelers (Max power not exceeding 250 Watts)</th>\n",
              "      <td>4689</td>\n",
              "      <td>1006</td>\n",
              "      <td>2148</td>\n",
              "      <td>2078</td>\n",
              "      <td>5018</td>\n",
              "      <td>0</td>\n",
              "      <td>8476</td>\n",
              "      <td>13908</td>\n",
              "      <td>0</td>\n",
              "      <td>152</td>\n",
              "      <td>...</td>\n",
              "      <td>8260</td>\n",
              "      <td>2256</td>\n",
              "      <td>36</td>\n",
              "      <td>15199</td>\n",
              "      <td>3239</td>\n",
              "      <td>10781</td>\n",
              "      <td>0</td>\n",
              "      <td>896</td>\n",
              "      <td>9</td>\n",
              "      <td>112538</td>\n",
              "    </tr>\n",
              "    <tr>\n",
              "      <th>Three Wheelers (Category L5 slow speed as per CMVR)</th>\n",
              "      <td>0</td>\n",
              "      <td>0</td>\n",
              "      <td>6</td>\n",
              "      <td>58</td>\n",
              "      <td>0</td>\n",
              "      <td>0</td>\n",
              "      <td>0</td>\n",
              "      <td>113</td>\n",
              "      <td>0</td>\n",
              "      <td>0</td>\n",
              "      <td>...</td>\n",
              "      <td>0</td>\n",
              "      <td>2</td>\n",
              "      <td>0</td>\n",
              "      <td>117</td>\n",
              "      <td>45</td>\n",
              "      <td>3</td>\n",
              "      <td>0</td>\n",
              "      <td>0</td>\n",
              "      <td>0</td>\n",
              "      <td>389</td>\n",
              "    </tr>\n",
              "    <tr>\n",
              "      <th>Three Wheelers (Category L5 as per CMVR)</th>\n",
              "      <td>0</td>\n",
              "      <td>117</td>\n",
              "      <td>64</td>\n",
              "      <td>106</td>\n",
              "      <td>1</td>\n",
              "      <td>0</td>\n",
              "      <td>4</td>\n",
              "      <td>24</td>\n",
              "      <td>0</td>\n",
              "      <td>0</td>\n",
              "      <td>...</td>\n",
              "      <td>0</td>\n",
              "      <td>0</td>\n",
              "      <td>0</td>\n",
              "      <td>139</td>\n",
              "      <td>38</td>\n",
              "      <td>0</td>\n",
              "      <td>0</td>\n",
              "      <td>0</td>\n",
              "      <td>0</td>\n",
              "      <td>720</td>\n",
              "    </tr>\n",
              "    <tr>\n",
              "      <th>Passenger Cars (Category M1 as per CMVR)</th>\n",
              "      <td>3680</td>\n",
              "      <td>151</td>\n",
              "      <td>271</td>\n",
              "      <td>997</td>\n",
              "      <td>12695</td>\n",
              "      <td>513</td>\n",
              "      <td>15388</td>\n",
              "      <td>4878</td>\n",
              "      <td>98</td>\n",
              "      <td>208</td>\n",
              "      <td>...</td>\n",
              "      <td>7132</td>\n",
              "      <td>5530</td>\n",
              "      <td>8</td>\n",
              "      <td>5445</td>\n",
              "      <td>265</td>\n",
              "      <td>1840</td>\n",
              "      <td>82</td>\n",
              "      <td>974</td>\n",
              "      <td>803</td>\n",
              "      <td>105571</td>\n",
              "    </tr>\n",
              "    <tr>\n",
              "      <th>Buses</th>\n",
              "      <td>0</td>\n",
              "      <td>0</td>\n",
              "      <td>0</td>\n",
              "      <td>0</td>\n",
              "      <td>21</td>\n",
              "      <td>1</td>\n",
              "      <td>0</td>\n",
              "      <td>0</td>\n",
              "      <td>0</td>\n",
              "      <td>0</td>\n",
              "      <td>...</td>\n",
              "      <td>0</td>\n",
              "      <td>0</td>\n",
              "      <td>0</td>\n",
              "      <td>0</td>\n",
              "      <td>0</td>\n",
              "      <td>0</td>\n",
              "      <td>0</td>\n",
              "      <td>0</td>\n",
              "      <td>0</td>\n",
              "      <td>27</td>\n",
              "    </tr>\n",
              "  </tbody>\n",
              "</table>\n",
              "<p>7 rows × 31 columns</p>\n",
              "</div>\n",
              "      <button class=\"colab-df-convert\" onclick=\"convertToInteractive('df-81de840e-4328-4ce2-bf8d-769f1c1f4097')\"\n",
              "              title=\"Convert this dataframe to an interactive table.\"\n",
              "              style=\"display:none;\">\n",
              "        \n",
              "  <svg xmlns=\"http://www.w3.org/2000/svg\" height=\"24px\"viewBox=\"0 0 24 24\"\n",
              "       width=\"24px\">\n",
              "    <path d=\"M0 0h24v24H0V0z\" fill=\"none\"/>\n",
              "    <path d=\"M18.56 5.44l.94 2.06.94-2.06 2.06-.94-2.06-.94-.94-2.06-.94 2.06-2.06.94zm-11 1L8.5 8.5l.94-2.06 2.06-.94-2.06-.94L8.5 2.5l-.94 2.06-2.06.94zm10 10l.94 2.06.94-2.06 2.06-.94-2.06-.94-.94-2.06-.94 2.06-2.06.94z\"/><path d=\"M17.41 7.96l-1.37-1.37c-.4-.4-.92-.59-1.43-.59-.52 0-1.04.2-1.43.59L10.3 9.45l-7.72 7.72c-.78.78-.78 2.05 0 2.83L4 21.41c.39.39.9.59 1.41.59.51 0 1.02-.2 1.41-.59l7.78-7.78 2.81-2.81c.8-.78.8-2.07 0-2.86zM5.41 20L4 18.59l7.72-7.72 1.47 1.35L5.41 20z\"/>\n",
              "  </svg>\n",
              "      </button>\n",
              "      \n",
              "  <style>\n",
              "    .colab-df-container {\n",
              "      display:flex;\n",
              "      flex-wrap:wrap;\n",
              "      gap: 12px;\n",
              "    }\n",
              "\n",
              "    .colab-df-convert {\n",
              "      background-color: #E8F0FE;\n",
              "      border: none;\n",
              "      border-radius: 50%;\n",
              "      cursor: pointer;\n",
              "      display: none;\n",
              "      fill: #1967D2;\n",
              "      height: 32px;\n",
              "      padding: 0 0 0 0;\n",
              "      width: 32px;\n",
              "    }\n",
              "\n",
              "    .colab-df-convert:hover {\n",
              "      background-color: #E2EBFA;\n",
              "      box-shadow: 0px 1px 2px rgba(60, 64, 67, 0.3), 0px 1px 3px 1px rgba(60, 64, 67, 0.15);\n",
              "      fill: #174EA6;\n",
              "    }\n",
              "\n",
              "    [theme=dark] .colab-df-convert {\n",
              "      background-color: #3B4455;\n",
              "      fill: #D2E3FC;\n",
              "    }\n",
              "\n",
              "    [theme=dark] .colab-df-convert:hover {\n",
              "      background-color: #434B5C;\n",
              "      box-shadow: 0px 1px 3px 1px rgba(0, 0, 0, 0.15);\n",
              "      filter: drop-shadow(0px 1px 2px rgba(0, 0, 0, 0.3));\n",
              "      fill: #FFFFFF;\n",
              "    }\n",
              "  </style>\n",
              "\n",
              "      <script>\n",
              "        const buttonEl =\n",
              "          document.querySelector('#df-81de840e-4328-4ce2-bf8d-769f1c1f4097 button.colab-df-convert');\n",
              "        buttonEl.style.display =\n",
              "          google.colab.kernel.accessAllowed ? 'block' : 'none';\n",
              "\n",
              "        async function convertToInteractive(key) {\n",
              "          const element = document.querySelector('#df-81de840e-4328-4ce2-bf8d-769f1c1f4097');\n",
              "          const dataTable =\n",
              "            await google.colab.kernel.invokeFunction('convertToInteractive',\n",
              "                                                     [key], {});\n",
              "          if (!dataTable) return;\n",
              "\n",
              "          const docLinkHtml = 'Like what you see? Visit the ' +\n",
              "            '<a target=\"_blank\" href=https://colab.research.google.com/notebooks/data_table.ipynb>data table notebook</a>'\n",
              "            + ' to learn more about interactive tables.';\n",
              "          element.innerHTML = '';\n",
              "          dataTable['output_type'] = 'display_data';\n",
              "          await google.colab.output.renderOutput(dataTable, element);\n",
              "          const docLink = document.createElement('div');\n",
              "          docLink.innerHTML = docLinkHtml;\n",
              "          element.appendChild(docLink);\n",
              "        }\n",
              "      </script>\n",
              "    </div>\n",
              "  </div>\n",
              "  "
            ]
          },
          "metadata": {},
          "execution_count": 6
        }
      ]
    },
    {
      "cell_type": "code",
      "source": [
        "new_T.plot.pie(y=30,figsize=(50,8),autopct='%1.2f%%',pctdistance=0.6, shadow=False, labeldistance=1.2,explode=(0,0,0,0,0.5,0,0),title=\"Distribution of EV type across country\")\n",
        "plt.legend(bbox_to_anchor = (2, 0.6))"
      ],
      "metadata": {
        "colab": {
          "base_uri": "https://localhost:8080/",
          "height": 499
        },
        "id": "j9H-HVxDP9qP",
        "outputId": "0364c7b3-a046-4bfa-faf9-4a80e445dd2a"
      },
      "execution_count": 7,
      "outputs": [
        {
          "output_type": "execute_result",
          "data": {
            "text/plain": [
              "<matplotlib.legend.Legend at 0x7fda45325fd0>"
            ]
          },
          "metadata": {},
          "execution_count": 7
        },
        {
          "output_type": "display_data",
          "data": {
            "text/plain": [
              "<Figure size 3600x576 with 1 Axes>"
            ],
            "image/png": "[encoded data removed]"
          },
          "metadata": {}
        }
      ]
    },
    {
      "cell_type": "code",
      "source": [
        "new = df.drop(df.columns[9],axis=1)\n",
        "data = new.drop(labels=[30], axis=0)\n",
        "data.head()"
      ],
      "metadata": {
        "colab": {
          "base_uri": "https://localhost:8080/",
          "height": 302
        },
        "id": "W35I5QzYGDEU",
        "outputId": "0c0c41e7-1a9f-4acd-84a7-de30aec74ed5"
      },
      "execution_count": 8,
      "outputs": [
        {
          "output_type": "execute_result",
          "data": {
            "text/plain": [
              "   Sl. No           State  \\\n",
              "0       1  Andhra Pradesh   \n",
              "1       2           Assam   \n",
              "2       3           Bihar   \n",
              "3       4    Chhattisgarh   \n",
              "4       5           Delhi   \n",
              "\n",
              "   Two Wheelers (Category L1 & L2 as per Central Motor Vehicles Rules  \\\n",
              "0                                                431                    \n",
              "1                                                463                    \n",
              "2                                                252                    \n",
              "3                                                613                    \n",
              "4                                               1395                    \n",
              "\n",
              "   Two Wheelers (Category L2 (CMVR))  \\\n",
              "0                                692   \n",
              "1                                138   \n",
              "2                                430   \n",
              "3                                382   \n",
              "4                                251   \n",
              "\n",
              "   Two Wheelers (Max power not exceeding 250 Watts)  \\\n",
              "0                                              4689   \n",
              "1                                              1006   \n",
              "2                                              2148   \n",
              "3                                              2078   \n",
              "4                                              5018   \n",
              "\n",
              "   Three Wheelers (Category L5 slow speed as per CMVR)  \\\n",
              "0                                                  0     \n",
              "1                                                  0     \n",
              "2                                                  6     \n",
              "3                                                 58     \n",
              "4                                                  0     \n",
              "\n",
              "   Three Wheelers (Category L5 as per CMVR)  \\\n",
              "0                                         0   \n",
              "1                                       117   \n",
              "2                                        64   \n",
              "3                                       106   \n",
              "4                                         1   \n",
              "\n",
              "   Passenger Cars (Category M1 as per CMVR)  Buses  \n",
              "0                                      3680      0  \n",
              "1                                       151      0  \n",
              "2                                       271      0  \n",
              "3                                       997      0  \n",
              "4                                     12695     21  "
            ],
            "text/html": [
              "\n",
              "  <div id=\"df-04f7ff95-27aa-4557-9784-a093aa5c5d42\">\n",
              "    <div class=\"colab-df-container\">\n",
              "      <div>\n",
              "<style scoped>\n",
              "    .dataframe tbody tr th:only-of-type {\n",
              "        vertical-align: middle;\n",
              "    }\n",
              "\n",
              "    .dataframe tbody tr th {\n",
              "        vertical-align: top;\n",
              "    }\n",
              "\n",
              "    .dataframe thead th {\n",
              "        text-align: right;\n",
              "    }\n",
              "</style>\n",
              "<table border=\"1\" class=\"dataframe\">\n",
              "  <thead>\n",
              "    <tr style=\"text-align: right;\">\n",
              "      <th></th>\n",
              "      <th>Sl. No</th>\n",
              "      <th>State</th>\n",
              "      <th>Two Wheelers (Category L1 &amp; L2 as per Central Motor Vehicles Rules</th>\n",
              "      <th>Two Wheelers (Category L2 (CMVR))</th>\n",
              "      <th>Two Wheelers (Max power not exceeding 250 Watts)</th>\n",
              "      <th>Three Wheelers (Category L5 slow speed as per CMVR)</th>\n",
              "      <th>Three Wheelers (Category L5 as per CMVR)</th>\n",
              "      <th>Passenger Cars (Category M1 as per CMVR)</th>\n",
              "      <th>Buses</th>\n",
              "    </tr>\n",
              "  </thead>\n",
              "  <tbody>\n",
              "    <tr>\n",
              "      <th>0</th>\n",
              "      <td>1</td>\n",
              "      <td>Andhra Pradesh</td>\n",
              "      <td>431</td>\n",
              "      <td>692</td>\n",
              "      <td>4689</td>\n",
              "      <td>0</td>\n",
              "      <td>0</td>\n",
              "      <td>3680</td>\n",
              "      <td>0</td>\n",
              "    </tr>\n",
              "    <tr>\n",
              "      <th>1</th>\n",
              "      <td>2</td>\n",
              "      <td>Assam</td>\n",
              "      <td>463</td>\n",
              "      <td>138</td>\n",
              "      <td>1006</td>\n",
              "      <td>0</td>\n",
              "      <td>117</td>\n",
              "      <td>151</td>\n",
              "      <td>0</td>\n",
              "    </tr>\n",
              "    <tr>\n",
              "      <th>2</th>\n",
              "      <td>3</td>\n",
              "      <td>Bihar</td>\n",
              "      <td>252</td>\n",
              "      <td>430</td>\n",
              "      <td>2148</td>\n",
              "      <td>6</td>\n",
              "      <td>64</td>\n",
              "      <td>271</td>\n",
              "      <td>0</td>\n",
              "    </tr>\n",
              "    <tr>\n",
              "      <th>3</th>\n",
              "      <td>4</td>\n",
              "      <td>Chhattisgarh</td>\n",
              "      <td>613</td>\n",
              "      <td>382</td>\n",
              "      <td>2078</td>\n",
              "      <td>58</td>\n",
              "      <td>106</td>\n",
              "      <td>997</td>\n",
              "      <td>0</td>\n",
              "    </tr>\n",
              "    <tr>\n",
              "      <th>4</th>\n",
              "      <td>5</td>\n",
              "      <td>Delhi</td>\n",
              "      <td>1395</td>\n",
              "      <td>251</td>\n",
              "      <td>5018</td>\n",
              "      <td>0</td>\n",
              "      <td>1</td>\n",
              "      <td>12695</td>\n",
              "      <td>21</td>\n",
              "    </tr>\n",
              "  </tbody>\n",
              "</table>\n",
              "</div>\n",
              "      <button class=\"colab-df-convert\" onclick=\"convertToInteractive('df-04f7ff95-27aa-4557-9784-a093aa5c5d42')\"\n",
              "              title=\"Convert this dataframe to an interactive table.\"\n",
              "              style=\"display:none;\">\n",
              "        \n",
              "  <svg xmlns=\"http://www.w3.org/2000/svg\" height=\"24px\"viewBox=\"0 0 24 24\"\n",
              "       width=\"24px\">\n",
              "    <path d=\"M0 0h24v24H0V0z\" fill=\"none\"/>\n",
              "    <path d=\"M18.56 5.44l.94 2.06.94-2.06 2.06-.94-2.06-.94-.94-2.06-.94 2.06-2.06.94zm-11 1L8.5 8.5l.94-2.06 2.06-.94-2.06-.94L8.5 2.5l-.94 2.06-2.06.94zm10 10l.94 2.06.94-2.06 2.06-.94-2.06-.94-.94-2.06-.94 2.06-2.06.94z\"/><path d=\"M17.41 7.96l-1.37-1.37c-.4-.4-.92-.59-1.43-.59-.52 0-1.04.2-1.43.59L10.3 9.45l-7.72 7.72c-.78.78-.78 2.05 0 2.83L4 21.41c.39.39.9.59 1.41.59.51 0 1.02-.2 1.41-.59l7.78-7.78 2.81-2.81c.8-.78.8-2.07 0-2.86zM5.41 20L4 18.59l7.72-7.72 1.47 1.35L5.41 20z\"/>\n",
              "  </svg>\n",
              "      </button>\n",
              "      \n",
              "  <style>\n",
              "    .colab-df-container {\n",
              "      display:flex;\n",
              "      flex-wrap:wrap;\n",
              "      gap: 12px;\n",
              "    }\n",
              "\n",
              "    .colab-df-convert {\n",
              "      background-color: #E8F0FE;\n",
              "      border: none;\n",
              "      border-radius: 50%;\n",
              "      cursor: pointer;\n",
              "      display: none;\n",
              "      fill: #1967D2;\n",
              "      height: 32px;\n",
              "      padding: 0 0 0 0;\n",
              "      width: 32px;\n",
              "    }\n",
              "\n",
              "    .colab-df-convert:hover {\n",
              "      background-color: #E2EBFA;\n",
              "      box-shadow: 0px 1px 2px rgba(60, 64, 67, 0.3), 0px 1px 3px 1px rgba(60, 64, 67, 0.15);\n",
              "      fill: #174EA6;\n",
              "    }\n",
              "\n",
              "    [theme=dark] .colab-df-convert {\n",
              "      background-color: #3B4455;\n",
              "      fill: #D2E3FC;\n",
              "    }\n",
              "\n",
              "    [theme=dark] .colab-df-convert:hover {\n",
              "      background-color: #434B5C;\n",
              "      box-shadow: 0px 1px 3px 1px rgba(0, 0, 0, 0.15);\n",
              "      filter: drop-shadow(0px 1px 2px rgba(0, 0, 0, 0.3));\n",
              "      fill: #FFFFFF;\n",
              "    }\n",
              "  </style>\n",
              "\n",
              "      <script>\n",
              "        const buttonEl =\n",
              "          document.querySelector('#df-04f7ff95-27aa-4557-9784-a093aa5c5d42 button.colab-df-convert');\n",
              "        buttonEl.style.display =\n",
              "          google.colab.kernel.accessAllowed ? 'block' : 'none';\n",
              "\n",
              "        async function convertToInteractive(key) {\n",
              "          const element = document.querySelector('#df-04f7ff95-27aa-4557-9784-a093aa5c5d42');\n",
              "          const dataTable =\n",
              "            await google.colab.kernel.invokeFunction('convertToInteractive',\n",
              "                                                     [key], {});\n",
              "          if (!dataTable) return;\n",
              "\n",
              "          const docLinkHtml = 'Like what you see? Visit the ' +\n",
              "            '<a target=\"_blank\" href=https://colab.research.google.com/notebooks/data_table.ipynb>data table notebook</a>'\n",
              "            + ' to learn more about interactive tables.';\n",
              "          element.innerHTML = '';\n",
              "          dataTable['output_type'] = 'display_data';\n",
              "          await google.colab.output.renderOutput(dataTable, element);\n",
              "          const docLink = document.createElement('div');\n",
              "          docLink.innerHTML = docLinkHtml;\n",
              "          element.appendChild(docLink);\n",
              "        }\n",
              "      </script>\n",
              "    </div>\n",
              "  </div>\n",
              "  "
            ]
          },
          "metadata": {},
          "execution_count": 8
        }
      ]
    },
    {
      "cell_type": "code",
      "source": [
        "data.plot(x='State'[:32], kind='bar', stacked=True,\n",
        "        title='State vs Electric Vehicle type',figsize=(20,8))"
      ],
      "metadata": {
        "colab": {
          "base_uri": "https://localhost:8080/",
          "height": 658
        },
        "id": "yFns4fX-EUTZ",
        "outputId": "7f16e6ab-307a-4e42-ffa7-36545c74ea6a"
      },
      "execution_count": 9,
      "outputs": [
        {
          "output_type": "execute_result",
          "data": {
            "text/plain": [
              "<matplotlib.axes._subplots.AxesSubplot at 0x7fda452ba810>"
            ]
          },
          "metadata": {},
          "execution_count": 9
        },
        {
          "output_type": "display_data",
          "data": {
            "text/plain": [
              "<Figure size 1440x576 with 1 Axes>"
            ],
            "image/png": "[encoded data removed]"
          },
          "metadata": {
            "needs_background": "light"
          }
        }
      ]
    },
    {
      "cell_type": "markdown",
      "source": [
        "# EV vehicle cost and features"
      ],
      "metadata": {
        "id": "6OOzEi8YqFQV"
      }
    },
    {
      "cell_type": "code",
      "source": [
        "df2=pd.read_csv('gdrive/My Drive/10x/ElectricVehicle_Norm.csv')\n",
        "df2.head()"
      ],
      "metadata": {
        "colab": {
          "base_uri": "https://localhost:8080/",
          "height": 250
        },
        "id": "oqyEmFNBqIk8",
        "outputId": "1e572838-31ed-4355-e0ea-a7ba8808f66d"
      },
      "execution_count": 10,
      "outputs": [
        {
          "output_type": "execute_result",
          "data": {
            "text/plain": [
              "         Brand                          Model  AccelSec  TopSpeed_KmH  \\\n",
              "0       Tesla   Model 3 Long Range Dual Motor       4.6           233   \n",
              "1  Volkswagen                       ID.3 Pure      10.0           160   \n",
              "2    Polestar                               2       4.7           210   \n",
              "3         BMW                            iX3        6.8           180   \n",
              "4       Honda                              e        9.5           145   \n",
              "\n",
              "   Range_Km  Efficiency_WhKm FastCharge_KmH RapidCharge PowerTrain  \\\n",
              "0       450              161            940         Yes        AWD   \n",
              "1       270              167            250         Yes        RWD   \n",
              "2       400              181            620         Yes        AWD   \n",
              "3       360              206            560         Yes        RWD   \n",
              "4       170              168            190         Yes        RWD   \n",
              "\n",
              "     PlugType  BodyStyle Segment  Seats  PriceEuro  \n",
              "0  Type 2 CCS      Sedan       D      5      55480  \n",
              "1  Type 2 CCS  Hatchback       C      5      30000  \n",
              "2  Type 2 CCS   Liftback       D      5      56440  \n",
              "3  Type 2 CCS        SUV       D      5      68040  \n",
              "4  Type 2 CCS  Hatchback       B      4      32997  "
            ],
            "text/html": [
              "\n",
              "  <div id=\"df-7fec0c9a-5a9a-4db4-9616-ac65c8e98e5b\">\n",
              "    <div class=\"colab-df-container\">\n",
              "      <div>\n",
              "<style scoped>\n",
              "    .dataframe tbody tr th:only-of-type {\n",
              "        vertical-align: middle;\n",
              "    }\n",
              "\n",
              "    .dataframe tbody tr th {\n",
              "        vertical-align: top;\n",
              "    }\n",
              "\n",
              "    .dataframe thead th {\n",
              "        text-align: right;\n",
              "    }\n",
              "</style>\n",
              "<table border=\"1\" class=\"dataframe\">\n",
              "  <thead>\n",
              "    <tr style=\"text-align: right;\">\n",
              "      <th></th>\n",
              "      <th>Brand</th>\n",
              "      <th>Model</th>\n",
              "      <th>AccelSec</th>\n",
              "      <th>TopSpeed_KmH</th>\n",
              "      <th>Range_Km</th>\n",
              "      <th>Efficiency_WhKm</th>\n",
              "      <th>FastCharge_KmH</th>\n",
              "      <th>RapidCharge</th>\n",
              "      <th>PowerTrain</th>\n",
              "      <th>PlugType</th>\n",
              "      <th>BodyStyle</th>\n",
              "      <th>Segment</th>\n",
              "      <th>Seats</th>\n",
              "      <th>PriceEuro</th>\n",
              "    </tr>\n",
              "  </thead>\n",
              "  <tbody>\n",
              "    <tr>\n",
              "      <th>0</th>\n",
              "      <td>Tesla</td>\n",
              "      <td>Model 3 Long Range Dual Motor</td>\n",
              "      <td>4.6</td>\n",
              "      <td>233</td>\n",
              "      <td>450</td>\n",
              "      <td>161</td>\n",
              "      <td>940</td>\n",
              "      <td>Yes</td>\n",
              "      <td>AWD</td>\n",
              "      <td>Type 2 CCS</td>\n",
              "      <td>Sedan</td>\n",
              "      <td>D</td>\n",
              "      <td>5</td>\n",
              "      <td>55480</td>\n",
              "    </tr>\n",
              "    <tr>\n",
              "      <th>1</th>\n",
              "      <td>Volkswagen</td>\n",
              "      <td>ID.3 Pure</td>\n",
              "      <td>10.0</td>\n",
              "      <td>160</td>\n",
              "      <td>270</td>\n",
              "      <td>167</td>\n",
              "      <td>250</td>\n",
              "      <td>Yes</td>\n",
              "      <td>RWD</td>\n",
              "      <td>Type 2 CCS</td>\n",
              "      <td>Hatchback</td>\n",
              "      <td>C</td>\n",
              "      <td>5</td>\n",
              "      <td>30000</td>\n",
              "    </tr>\n",
              "    <tr>\n",
              "      <th>2</th>\n",
              "      <td>Polestar</td>\n",
              "      <td>2</td>\n",
              "      <td>4.7</td>\n",
              "      <td>210</td>\n",
              "      <td>400</td>\n",
              "      <td>181</td>\n",
              "      <td>620</td>\n",
              "      <td>Yes</td>\n",
              "      <td>AWD</td>\n",
              "      <td>Type 2 CCS</td>\n",
              "      <td>Liftback</td>\n",
              "      <td>D</td>\n",
              "      <td>5</td>\n",
              "      <td>56440</td>\n",
              "    </tr>\n",
              "    <tr>\n",
              "      <th>3</th>\n",
              "      <td>BMW</td>\n",
              "      <td>iX3</td>\n",
              "      <td>6.8</td>\n",
              "      <td>180</td>\n",
              "      <td>360</td>\n",
              "      <td>206</td>\n",
              "      <td>560</td>\n",
              "      <td>Yes</td>\n",
              "      <td>RWD</td>\n",
              "      <td>Type 2 CCS</td>\n",
              "      <td>SUV</td>\n",
              "      <td>D</td>\n",
              "      <td>5</td>\n",
              "      <td>68040</td>\n",
              "    </tr>\n",
              "    <tr>\n",
              "      <th>4</th>\n",
              "      <td>Honda</td>\n",
              "      <td>e</td>\n",
              "      <td>9.5</td>\n",
              "      <td>145</td>\n",
              "      <td>170</td>\n",
              "      <td>168</td>\n",
              "      <td>190</td>\n",
              "      <td>Yes</td>\n",
              "      <td>RWD</td>\n",
              "      <td>Type 2 CCS</td>\n",
              "      <td>Hatchback</td>\n",
              "      <td>B</td>\n",
              "      <td>4</td>\n",
              "      <td>32997</td>\n",
              "    </tr>\n",
              "  </tbody>\n",
              "</table>\n",
              "</div>\n",
              "      <button class=\"colab-df-convert\" onclick=\"convertToInteractive('df-7fec0c9a-5a9a-4db4-9616-ac65c8e98e5b')\"\n",
              "              title=\"Convert this dataframe to an interactive table.\"\n",
              "              style=\"display:none;\">\n",
              "        \n",
              "  <svg xmlns=\"http://www.w3.org/2000/svg\" height=\"24px\"viewBox=\"0 0 24 24\"\n",
              "       width=\"24px\">\n",
              "    <path d=\"M0 0h24v24H0V0z\" fill=\"none\"/>\n",
              "    <path d=\"M18.56 5.44l.94 2.06.94-2.06 2.06-.94-2.06-.94-.94-2.06-.94 2.06-2.06.94zm-11 1L8.5 8.5l.94-2.06 2.06-.94-2.06-.94L8.5 2.5l-.94 2.06-2.06.94zm10 10l.94 2.06.94-2.06 2.06-.94-2.06-.94-.94-2.06-.94 2.06-2.06.94z\"/><path d=\"M17.41 7.96l-1.37-1.37c-.4-.4-.92-.59-1.43-.59-.52 0-1.04.2-1.43.59L10.3 9.45l-7.72 7.72c-.78.78-.78 2.05 0 2.83L4 21.41c.39.39.9.59 1.41.59.51 0 1.02-.2 1.41-.59l7.78-7.78 2.81-2.81c.8-.78.8-2.07 0-2.86zM5.41 20L4 18.59l7.72-7.72 1.47 1.35L5.41 20z\"/>\n",
              "  </svg>\n",
              "      </button>\n",
              "      \n",
              "  <style>\n",
              "    .colab-df-container {\n",
              "      display:flex;\n",
              "      flex-wrap:wrap;\n",
              "      gap: 12px;\n",
              "    }\n",
              "\n",
              "    .colab-df-convert {\n",
              "      background-color: #E8F0FE;\n",
              "      border: none;\n",
              "      border-radius: 50%;\n",
              "      cursor: pointer;\n",
              "      display: none;\n",
              "      fill: #1967D2;\n",
              "      height: 32px;\n",
              "      padding: 0 0 0 0;\n",
              "      width: 32px;\n",
              "    }\n",
              "\n",
              "    .colab-df-convert:hover {\n",
              "      background-color: #E2EBFA;\n",
              "      box-shadow: 0px 1px 2px rgba(60, 64, 67, 0.3), 0px 1px 3px 1px rgba(60, 64, 67, 0.15);\n",
              "      fill: #174EA6;\n",
              "    }\n",
              "\n",
              "    [theme=dark] .colab-df-convert {\n",
              "      background-color: #3B4455;\n",
              "      fill: #D2E3FC;\n",
              "    }\n",
              "\n",
              "    [theme=dark] .colab-df-convert:hover {\n",
              "      background-color: #434B5C;\n",
              "      box-shadow: 0px 1px 3px 1px rgba(0, 0, 0, 0.15);\n",
              "      filter: drop-shadow(0px 1px 2px rgba(0, 0, 0, 0.3));\n",
              "      fill: #FFFFFF;\n",
              "    }\n",
              "  </style>\n",
              "\n",
              "      <script>\n",
              "        const buttonEl =\n",
              "          document.querySelector('#df-7fec0c9a-5a9a-4db4-9616-ac65c8e98e5b button.colab-df-convert');\n",
              "        buttonEl.style.display =\n",
              "          google.colab.kernel.accessAllowed ? 'block' : 'none';\n",
              "\n",
              "        async function convertToInteractive(key) {\n",
              "          const element = document.querySelector('#df-7fec0c9a-5a9a-4db4-9616-ac65c8e98e5b');\n",
              "          const dataTable =\n",
              "            await google.colab.kernel.invokeFunction('convertToInteractive',\n",
              "                                                     [key], {});\n",
              "          if (!dataTable) return;\n",
              "\n",
              "          const docLinkHtml = 'Like what you see? Visit the ' +\n",
              "            '<a target=\"_blank\" href=https://colab.research.google.com/notebooks/data_table.ipynb>data table notebook</a>'\n",
              "            + ' to learn more about interactive tables.';\n",
              "          element.innerHTML = '';\n",
              "          dataTable['output_type'] = 'display_data';\n",
              "          await google.colab.output.renderOutput(dataTable, element);\n",
              "          const docLink = document.createElement('div');\n",
              "          docLink.innerHTML = docLinkHtml;\n",
              "          element.appendChild(docLink);\n",
              "        }\n",
              "      </script>\n",
              "    </div>\n",
              "  </div>\n",
              "  "
            ]
          },
          "metadata": {},
          "execution_count": 10
        }
      ]
    },
    {
      "cell_type": "code",
      "source": [
        "df2.isnull().any()"
      ],
      "metadata": {
        "colab": {
          "base_uri": "https://localhost:8080/"
        },
        "id": "4l7gcamKqR68",
        "outputId": "95d6906d-62bb-462c-ccda-ab54eaffa5bb"
      },
      "execution_count": 11,
      "outputs": [
        {
          "output_type": "execute_result",
          "data": {
            "text/plain": [
              "Brand              False\n",
              "Model              False\n",
              "AccelSec           False\n",
              "TopSpeed_KmH       False\n",
              "Range_Km           False\n",
              "Efficiency_WhKm    False\n",
              "FastCharge_KmH     False\n",
              "RapidCharge        False\n",
              "PowerTrain         False\n",
              "PlugType           False\n",
              "BodyStyle          False\n",
              "Segment            False\n",
              "Seats              False\n",
              "PriceEuro          False\n",
              "dtype: bool"
            ]
          },
          "metadata": {},
          "execution_count": 11
        }
      ]
    },
    {
      "cell_type": "code",
      "source": [
        "df2.info()"
      ],
      "metadata": {
        "colab": {
          "base_uri": "https://localhost:8080/"
        },
        "id": "Vgsmw599rDeO",
        "outputId": "24dc0b52-a971-4584-f454-225e7e5e103d"
      },
      "execution_count": 12,
      "outputs": [
        {
          "output_type": "stream",
          "name": "stdout",
          "text": [
            "<class 'pandas.core.frame.DataFrame'>\n",
            "RangeIndex: 103 entries, 0 to 102\n",
            "Data columns (total 14 columns):\n",
            " #   Column           Non-Null Count  Dtype  \n",
            "---  ------           --------------  -----  \n",
            " 0   Brand            103 non-null    object \n",
            " 1   Model            103 non-null    object \n",
            " 2   AccelSec         103 non-null    float64\n",
            " 3   TopSpeed_KmH     103 non-null    int64  \n",
            " 4   Range_Km         103 non-null    int64  \n",
            " 5   Efficiency_WhKm  103 non-null    int64  \n",
            " 6   FastCharge_KmH   103 non-null    object \n",
            " 7   RapidCharge      103 non-null    object \n",
            " 8   PowerTrain       103 non-null    object \n",
            " 9   PlugType         103 non-null    object \n",
            " 10  BodyStyle        103 non-null    object \n",
            " 11  Segment          103 non-null    object \n",
            " 12  Seats            103 non-null    int64  \n",
            " 13  PriceEuro        103 non-null    int64  \n",
            "dtypes: float64(1), int64(5), object(8)\n",
            "memory usage: 11.4+ KB\n"
          ]
        }
      ]
    },
    {
      "cell_type": "code",
      "source": [
        "df2.describe()"
      ],
      "metadata": {
        "colab": {
          "base_uri": "https://localhost:8080/",
          "height": 300
        },
        "id": "VBxZ3P3WrGZI",
        "outputId": "455304a5-f589-4aa1-9fe1-254ca431308d"
      },
      "execution_count": 13,
      "outputs": [
        {
          "output_type": "execute_result",
          "data": {
            "text/plain": [
              "         AccelSec  TopSpeed_KmH    Range_Km  Efficiency_WhKm       Seats  \\\n",
              "count  103.000000    103.000000  103.000000       103.000000  103.000000   \n",
              "mean     7.396117    179.194175  338.786408       189.165049    4.883495   \n",
              "std      3.017430     43.573030  126.014444        29.566839    0.795834   \n",
              "min      2.100000    123.000000   95.000000       104.000000    2.000000   \n",
              "25%      5.100000    150.000000  250.000000       168.000000    5.000000   \n",
              "50%      7.300000    160.000000  340.000000       180.000000    5.000000   \n",
              "75%      9.000000    200.000000  400.000000       203.000000    5.000000   \n",
              "max     22.400000    410.000000  970.000000       273.000000    7.000000   \n",
              "\n",
              "           PriceEuro  \n",
              "count     103.000000  \n",
              "mean    55811.563107  \n",
              "std     34134.665280  \n",
              "min     20129.000000  \n",
              "25%     34429.500000  \n",
              "50%     45000.000000  \n",
              "75%     65000.000000  \n",
              "max    215000.000000  "
            ],
            "text/html": [
              "\n",
              "  <div id=\"df-be360de3-7805-4857-9cb7-163fb0b12d4e\">\n",
              "    <div class=\"colab-df-container\">\n",
              "      <div>\n",
              "<style scoped>\n",
              "    .dataframe tbody tr th:only-of-type {\n",
              "        vertical-align: middle;\n",
              "    }\n",
              "\n",
              "    .dataframe tbody tr th {\n",
              "        vertical-align: top;\n",
              "    }\n",
              "\n",
              "    .dataframe thead th {\n",
              "        text-align: right;\n",
              "    }\n",
              "</style>\n",
              "<table border=\"1\" class=\"dataframe\">\n",
              "  <thead>\n",
              "    <tr style=\"text-align: right;\">\n",
              "      <th></th>\n",
              "      <th>AccelSec</th>\n",
              "      <th>TopSpeed_KmH</th>\n",
              "      <th>Range_Km</th>\n",
              "      <th>Efficiency_WhKm</th>\n",
              "      <th>Seats</th>\n",
              "      <th>PriceEuro</th>\n",
              "    </tr>\n",
              "  </thead>\n",
              "  <tbody>\n",
              "    <tr>\n",
              "      <th>count</th>\n",
              "      <td>103.000000</td>\n",
              "      <td>103.000000</td>\n",
              "      <td>103.000000</td>\n",
              "      <td>103.000000</td>\n",
              "      <td>103.000000</td>\n",
              "      <td>103.000000</td>\n",
              "    </tr>\n",
              "    <tr>\n",
              "      <th>mean</th>\n",
              "      <td>7.396117</td>\n",
              "      <td>179.194175</td>\n",
              "      <td>338.786408</td>\n",
              "      <td>189.165049</td>\n",
              "      <td>4.883495</td>\n",
              "      <td>55811.563107</td>\n",
              "    </tr>\n",
              "    <tr>\n",
              "      <th>std</th>\n",
              "      <td>3.017430</td>\n",
              "      <td>43.573030</td>\n",
              "      <td>126.014444</td>\n",
              "      <td>29.566839</td>\n",
              "      <td>0.795834</td>\n",
              "      <td>34134.665280</td>\n",
              "    </tr>\n",
              "    <tr>\n",
              "      <th>min</th>\n",
              "      <td>2.100000</td>\n",
              "      <td>123.000000</td>\n",
              "      <td>95.000000</td>\n",
              "      <td>104.000000</td>\n",
              "      <td>2.000000</td>\n",
              "      <td>20129.000000</td>\n",
              "    </tr>\n",
              "    <tr>\n",
              "      <th>25%</th>\n",
              "      <td>5.100000</td>\n",
              "      <td>150.000000</td>\n",
              "      <td>250.000000</td>\n",
              "      <td>168.000000</td>\n",
              "      <td>5.000000</td>\n",
              "      <td>34429.500000</td>\n",
              "    </tr>\n",
              "    <tr>\n",
              "      <th>50%</th>\n",
              "      <td>7.300000</td>\n",
              "      <td>160.000000</td>\n",
              "      <td>340.000000</td>\n",
              "      <td>180.000000</td>\n",
              "      <td>5.000000</td>\n",
              "      <td>45000.000000</td>\n",
              "    </tr>\n",
              "    <tr>\n",
              "      <th>75%</th>\n",
              "      <td>9.000000</td>\n",
              "      <td>200.000000</td>\n",
              "      <td>400.000000</td>\n",
              "      <td>203.000000</td>\n",
              "      <td>5.000000</td>\n",
              "      <td>65000.000000</td>\n",
              "    </tr>\n",
              "    <tr>\n",
              "      <th>max</th>\n",
              "      <td>22.400000</td>\n",
              "      <td>410.000000</td>\n",
              "      <td>970.000000</td>\n",
              "      <td>273.000000</td>\n",
              "      <td>7.000000</td>\n",
              "      <td>215000.000000</td>\n",
              "    </tr>\n",
              "  </tbody>\n",
              "</table>\n",
              "</div>\n",
              "      <button class=\"colab-df-convert\" onclick=\"convertToInteractive('df-be360de3-7805-4857-9cb7-163fb0b12d4e')\"\n",
              "              title=\"Convert this dataframe to an interactive table.\"\n",
              "              style=\"display:none;\">\n",
              "        \n",
              "  <svg xmlns=\"http://www.w3.org/2000/svg\" height=\"24px\"viewBox=\"0 0 24 24\"\n",
              "       width=\"24px\">\n",
              "    <path d=\"M0 0h24v24H0V0z\" fill=\"none\"/>\n",
              "    <path d=\"M18.56 5.44l.94 2.06.94-2.06 2.06-.94-2.06-.94-.94-2.06-.94 2.06-2.06.94zm-11 1L8.5 8.5l.94-2.06 2.06-.94-2.06-.94L8.5 2.5l-.94 2.06-2.06.94zm10 10l.94 2.06.94-2.06 2.06-.94-2.06-.94-.94-2.06-.94 2.06-2.06.94z\"/><path d=\"M17.41 7.96l-1.37-1.37c-.4-.4-.92-.59-1.43-.59-.52 0-1.04.2-1.43.59L10.3 9.45l-7.72 7.72c-.78.78-.78 2.05 0 2.83L4 21.41c.39.39.9.59 1.41.59.51 0 1.02-.2 1.41-.59l7.78-7.78 2.81-2.81c.8-.78.8-2.07 0-2.86zM5.41 20L4 18.59l7.72-7.72 1.47 1.35L5.41 20z\"/>\n",
              "  </svg>\n",
              "      </button>\n",
              "      \n",
              "  <style>\n",
              "    .colab-df-container {\n",
              "      display:flex;\n",
              "      flex-wrap:wrap;\n",
              "      gap: 12px;\n",
              "    }\n",
              "\n",
              "    .colab-df-convert {\n",
              "      background-color: #E8F0FE;\n",
              "      border: none;\n",
              "      border-radius: 50%;\n",
              "      cursor: pointer;\n",
              "      display: none;\n",
              "      fill: #1967D2;\n",
              "      height: 32px;\n",
              "      padding: 0 0 0 0;\n",
              "      width: 32px;\n",
              "    }\n",
              "\n",
              "    .colab-df-convert:hover {\n",
              "      background-color: #E2EBFA;\n",
              "      box-shadow: 0px 1px 2px rgba(60, 64, 67, 0.3), 0px 1px 3px 1px rgba(60, 64, 67, 0.15);\n",
              "      fill: #174EA6;\n",
              "    }\n",
              "\n",
              "    [theme=dark] .colab-df-convert {\n",
              "      background-color: #3B4455;\n",
              "      fill: #D2E3FC;\n",
              "    }\n",
              "\n",
              "    [theme=dark] .colab-df-convert:hover {\n",
              "      background-color: #434B5C;\n",
              "      box-shadow: 0px 1px 3px 1px rgba(0, 0, 0, 0.15);\n",
              "      filter: drop-shadow(0px 1px 2px rgba(0, 0, 0, 0.3));\n",
              "      fill: #FFFFFF;\n",
              "    }\n",
              "  </style>\n",
              "\n",
              "      <script>\n",
              "        const buttonEl =\n",
              "          document.querySelector('#df-be360de3-7805-4857-9cb7-163fb0b12d4e button.colab-df-convert');\n",
              "        buttonEl.style.display =\n",
              "          google.colab.kernel.accessAllowed ? 'block' : 'none';\n",
              "\n",
              "        async function convertToInteractive(key) {\n",
              "          const element = document.querySelector('#df-be360de3-7805-4857-9cb7-163fb0b12d4e');\n",
              "          const dataTable =\n",
              "            await google.colab.kernel.invokeFunction('convertToInteractive',\n",
              "                                                     [key], {});\n",
              "          if (!dataTable) return;\n",
              "\n",
              "          const docLinkHtml = 'Like what you see? Visit the ' +\n",
              "            '<a target=\"_blank\" href=https://colab.research.google.com/notebooks/data_table.ipynb>data table notebook</a>'\n",
              "            + ' to learn more about interactive tables.';\n",
              "          element.innerHTML = '';\n",
              "          dataTable['output_type'] = 'display_data';\n",
              "          await google.colab.output.renderOutput(dataTable, element);\n",
              "          const docLink = document.createElement('div');\n",
              "          docLink.innerHTML = docLinkHtml;\n",
              "          element.appendChild(docLink);\n",
              "        }\n",
              "      </script>\n",
              "    </div>\n",
              "  </div>\n",
              "  "
            ]
          },
          "metadata": {},
          "execution_count": 13
        }
      ]
    },
    {
      "cell_type": "code",
      "source": [
        "plt.figure(figsize=(5,5))\n",
        "sns.heatmap(df2.corr(), annot=True, cmap=\"YlGnBu\")\n",
        "plt.show()"
      ],
      "metadata": {
        "colab": {
          "base_uri": "https://localhost:8080/",
          "height": 400
        },
        "id": "sR2mtoitrIjm",
        "outputId": "fdb8289f-d5a1-4001-f41b-16bb0d2a1d7a"
      },
      "execution_count": 14,
      "outputs": [
        {
          "output_type": "display_data",
          "data": {
            "text/plain": [
              "<Figure size 360x360 with 2 Axes>"
            ],
            "image/png": "[encoded data removed]"
          },
          "metadata": {
            "needs_background": "light"
          }
        }
      ]
    },
    {
      "cell_type": "markdown",
      "source": [
        "#### Range and top-speed, price and top-speed are more positively correlated"
      ],
      "metadata": {
        "id": "LtAnLzhzszQr"
      }
    },
    {
      "cell_type": "code",
      "source": [
        "df2['Seats'].value_counts().plot.pie(figsize=(6,12),autopct='%.0f%%',explode=(0.1,0.1,0.1,0.1,0.1))\n",
        "plt.title('Seats')"
      ],
      "metadata": {
        "colab": {
          "base_uri": "https://localhost:8080/",
          "height": 399
        },
        "id": "9IMPzupfrNDP",
        "outputId": "cccbaf0f-f12f-4a94-8a3d-1c943c4cbc07"
      },
      "execution_count": 15,
      "outputs": [
        {
          "output_type": "execute_result",
          "data": {
            "text/plain": [
              "Text(0.5, 1.0, 'Seats')"
            ]
          },
          "metadata": {},
          "execution_count": 15
        },
        {
          "output_type": "display_data",
          "data": {
            "text/plain": [
              "<Figure size 432x864 with 1 Axes>"
            ],
            "image/png": "[encoded data removed]"
          },
          "metadata": {}
        }
      ]
    },
    {
      "cell_type": "markdown",
      "source": [
        "#### 5 seater is most commonly used"
      ],
      "metadata": {
        "id": "hu0Afv1Tt_xX"
      }
    },
    {
      "cell_type": "code",
      "source": [
        "df2['BodyStyle'].value_counts().plot.pie(figsize=(6,12),autopct='%.0f%%',explode=(0.1,0.1,0.1,0.1,0.1,0.1,0.1,0.1,0.1))\n",
        "plt.title('BodyStyle')"
      ],
      "metadata": {
        "colab": {
          "base_uri": "https://localhost:8080/",
          "height": 399
        },
        "id": "fCNHkkhU3j5X",
        "outputId": "81007381-d3f1-4c4b-8cfb-3cca0344461e"
      },
      "execution_count": 16,
      "outputs": [
        {
          "output_type": "execute_result",
          "data": {
            "text/plain": [
              "Text(0.5, 1.0, 'BodyStyle')"
            ]
          },
          "metadata": {},
          "execution_count": 16
        },
        {
          "output_type": "display_data",
          "data": {
            "text/plain": [
              "<Figure size 432x864 with 1 Axes>"
            ],
            "image/png": "[encoded data removed]"
          },
          "metadata": {}
        }
      ]
    },
    {
      "cell_type": "code",
      "source": [
        "f = plt.figure(figsize=(30,5))\n",
        "\n",
        "ax1 = f.add_subplot(121)\n",
        "ax2 = f.add_subplot(122)\n",
        "\n",
        "y = df2['AccelSec']\n",
        "ax1.tick_params(axis='x', rotation=90)\n",
        "ax1.bar(df2['Brand'], y)\n",
        "plt.ylabel(\"AccelSec\")\n",
        "ax2.bar(df2['BodyStyle'], y)\n",
        "plt.ylabel(\"AccelSec\")"
      ],
      "metadata": {
        "colab": {
          "base_uri": "https://localhost:8080/",
          "height": 328
        },
        "id": "Bpb5SukPtF4I",
        "outputId": "c3ffde1a-71d2-4fa1-d575-aa70bd1e3bcd"
      },
      "execution_count": 34,
      "outputs": [
        {
          "output_type": "execute_result",
          "data": {
            "text/plain": [
              "Text(0, 0.5, 'AccelSec')"
            ]
          },
          "metadata": {},
          "execution_count": 34
        },
        {
          "output_type": "display_data",
          "data": {
            "text/plain": [
              "<Figure size 2160x360 with 2 Axes>"
            ],
            "image/png": "[encoded data removed]"
          },
          "metadata": {
            "needs_background": "light"
          }
        }
      ]
    },
    {
      "cell_type": "code",
      "source": [
        "f = plt.figure(figsize=(30,5))\n",
        "\n",
        "ax1 = f.add_subplot(121)\n",
        "ax2 = f.add_subplot(122)\n",
        "\n",
        "y = df2['TopSpeed_KmH']\n",
        "ax1.tick_params(axis='x', rotation=90)\n",
        "ax1.bar(df2['Brand'], y)\n",
        "plt.ylabel(\"TopSpeed_KmH\")\n",
        "ax2.bar(df2['BodyStyle'], y)\n",
        "plt.ylabel(\"TopSpeed_KmH\")"
      ],
      "metadata": {
        "colab": {
          "base_uri": "https://localhost:8080/",
          "height": 327
        },
        "id": "kDUNOM3Xt6lw",
        "outputId": "e77f3535-71bc-44ea-feac-7e7ab1df12d4"
      },
      "execution_count": 35,
      "outputs": [
        {
          "output_type": "execute_result",
          "data": {
            "text/plain": [
              "Text(0, 0.5, 'TopSpeed_KmH')"
            ]
          },
          "metadata": {},
          "execution_count": 35
        },
        {
          "output_type": "display_data",
          "data": {
            "text/plain": [
              "<Figure size 2160x360 with 2 Axes>"
            ],
            "image/png": "[encoded data removed]"
          },
          "metadata": {
            "needs_background": "light"
          }
        }
      ]
    },
    {
      "cell_type": "code",
      "source": [
        "f = plt.figure(figsize=(30,5))\n",
        "\n",
        "ax1 = f.add_subplot(121)\n",
        "ax2 = f.add_subplot(122)\n",
        "\n",
        "y = df2['Range_Km']\n",
        "ax1.tick_params(axis='x', rotation=90)\n",
        "ax1.bar(df2['Brand'], y)\n",
        "plt.ylabel(\"Range_Km\")\n",
        "ax2.bar(df2['BodyStyle'], y)\n",
        "plt.ylabel(\"Range_Km\")"
      ],
      "metadata": {
        "colab": {
          "base_uri": "https://localhost:8080/",
          "height": 326
        },
        "id": "Im6eEIb2uNVz",
        "outputId": "d1a27a8d-d2fe-44ab-f6b4-07c14ec626dd"
      },
      "execution_count": 36,
      "outputs": [
        {
          "output_type": "execute_result",
          "data": {
            "text/plain": [
              "Text(0, 0.5, 'Range_Km')"
            ]
          },
          "metadata": {},
          "execution_count": 36
        },
        {
          "output_type": "display_data",
          "data": {
            "text/plain": [
              "<Figure size 2160x360 with 2 Axes>"
            ],
            "image/png": "[encoded data removed]"
          },
          "metadata": {
            "needs_background": "light"
          }
        }
      ]
    },
    {
      "cell_type": "code",
      "source": [
        "f = plt.figure(figsize=(30,5))\n",
        "\n",
        "ax1 = f.add_subplot(121)\n",
        "ax2 = f.add_subplot(122)\n",
        "\n",
        "y = df2['Efficiency_WhKm']\n",
        "ax1.tick_params(axis='x', rotation=90)\n",
        "ax1.bar(df2['Brand'], y)\n",
        "plt.ylabel(\"Efficiency_WhKm\")\n",
        "ax2.bar(df2['BodyStyle'], y)\n",
        "plt.ylabel(\"Efficiency_WhKm\")"
      ],
      "metadata": {
        "colab": {
          "base_uri": "https://localhost:8080/",
          "height": 327
        },
        "id": "MtwoBTFyuahg",
        "outputId": "df31a8e4-cc37-4744-cee9-da8a43127e37"
      },
      "execution_count": 37,
      "outputs": [
        {
          "output_type": "execute_result",
          "data": {
            "text/plain": [
              "Text(0, 0.5, 'Efficiency_WhKm')"
            ]
          },
          "metadata": {},
          "execution_count": 37
        },
        {
          "output_type": "display_data",
          "data": {
            "text/plain": [
              "<Figure size 2160x360 with 2 Axes>"
            ],
            "image/png": "[encoded data removed]"
          },
          "metadata": {
            "needs_background": "light"
          }
        }
      ]
    },
    {
      "cell_type": "code",
      "source": [
        "dataset = df2\n",
        "X = dataset.iloc[:, :-1].values\n",
        "y = dataset.iloc[:, -1].values\n",
        "data = dataset.drop(['Model','AccelSec','Efficiency_WhKm', 'FastCharge_KmH', 'RapidCharge', 'PowerTrain',\n",
        "       'PlugType', 'BodyStyle', 'Segment', 'Seats'],axis = 1)\n",
        "\n",
        "data.head()"
      ],
      "metadata": {
        "colab": {
          "base_uri": "https://localhost:8080/",
          "height": 206
        },
        "id": "gjH38D-Uuhl3",
        "outputId": "ec56bbb4-b0e9-43ad-e2ec-34aff4b5cef2"
      },
      "execution_count": 21,
      "outputs": [
        {
          "output_type": "execute_result",
          "data": {
            "text/plain": [
              "         Brand  TopSpeed_KmH  Range_Km  PriceEuro\n",
              "0       Tesla            233       450      55480\n",
              "1  Volkswagen            160       270      30000\n",
              "2    Polestar            210       400      56440\n",
              "3         BMW            180       360      68040\n",
              "4       Honda            145       170      32997"
            ],
            "text/html": [
              "\n",
              "  <div id=\"df-8ef9006e-5d30-4a29-ad87-cf2ffdd4af31\">\n",
              "    <div class=\"colab-df-container\">\n",
              "      <div>\n",
              "<style scoped>\n",
              "    .dataframe tbody tr th:only-of-type {\n",
              "        vertical-align: middle;\n",
              "    }\n",
              "\n",
              "    .dataframe tbody tr th {\n",
              "        vertical-align: top;\n",
              "    }\n",
              "\n",
              "    .dataframe thead th {\n",
              "        text-align: right;\n",
              "    }\n",
              "</style>\n",
              "<table border=\"1\" class=\"dataframe\">\n",
              "  <thead>\n",
              "    <tr style=\"text-align: right;\">\n",
              "      <th></th>\n",
              "      <th>Brand</th>\n",
              "      <th>TopSpeed_KmH</th>\n",
              "      <th>Range_Km</th>\n",
              "      <th>PriceEuro</th>\n",
              "    </tr>\n",
              "  </thead>\n",
              "  <tbody>\n",
              "    <tr>\n",
              "      <th>0</th>\n",
              "      <td>Tesla</td>\n",
              "      <td>233</td>\n",
              "      <td>450</td>\n",
              "      <td>55480</td>\n",
              "    </tr>\n",
              "    <tr>\n",
              "      <th>1</th>\n",
              "      <td>Volkswagen</td>\n",
              "      <td>160</td>\n",
              "      <td>270</td>\n",
              "      <td>30000</td>\n",
              "    </tr>\n",
              "    <tr>\n",
              "      <th>2</th>\n",
              "      <td>Polestar</td>\n",
              "      <td>210</td>\n",
              "      <td>400</td>\n",
              "      <td>56440</td>\n",
              "    </tr>\n",
              "    <tr>\n",
              "      <th>3</th>\n",
              "      <td>BMW</td>\n",
              "      <td>180</td>\n",
              "      <td>360</td>\n",
              "      <td>68040</td>\n",
              "    </tr>\n",
              "    <tr>\n",
              "      <th>4</th>\n",
              "      <td>Honda</td>\n",
              "      <td>145</td>\n",
              "      <td>170</td>\n",
              "      <td>32997</td>\n",
              "    </tr>\n",
              "  </tbody>\n",
              "</table>\n",
              "</div>\n",
              "      <button class=\"colab-df-convert\" onclick=\"convertToInteractive('df-8ef9006e-5d30-4a29-ad87-cf2ffdd4af31')\"\n",
              "              title=\"Convert this dataframe to an interactive table.\"\n",
              "              style=\"display:none;\">\n",
              "        \n",
              "  <svg xmlns=\"http://www.w3.org/2000/svg\" height=\"24px\"viewBox=\"0 0 24 24\"\n",
              "       width=\"24px\">\n",
              "    <path d=\"M0 0h24v24H0V0z\" fill=\"none\"/>\n",
              "    <path d=\"M18.56 5.44l.94 2.06.94-2.06 2.06-.94-2.06-.94-.94-2.06-.94 2.06-2.06.94zm-11 1L8.5 8.5l.94-2.06 2.06-.94-2.06-.94L8.5 2.5l-.94 2.06-2.06.94zm10 10l.94 2.06.94-2.06 2.06-.94-2.06-.94-.94-2.06-.94 2.06-2.06.94z\"/><path d=\"M17.41 7.96l-1.37-1.37c-.4-.4-.92-.59-1.43-.59-.52 0-1.04.2-1.43.59L10.3 9.45l-7.72 7.72c-.78.78-.78 2.05 0 2.83L4 21.41c.39.39.9.59 1.41.59.51 0 1.02-.2 1.41-.59l7.78-7.78 2.81-2.81c.8-.78.8-2.07 0-2.86zM5.41 20L4 18.59l7.72-7.72 1.47 1.35L5.41 20z\"/>\n",
              "  </svg>\n",
              "      </button>\n",
              "      \n",
              "  <style>\n",
              "    .colab-df-container {\n",
              "      display:flex;\n",
              "      flex-wrap:wrap;\n",
              "      gap: 12px;\n",
              "    }\n",
              "\n",
              "    .colab-df-convert {\n",
              "      background-color: #E8F0FE;\n",
              "      border: none;\n",
              "      border-radius: 50%;\n",
              "      cursor: pointer;\n",
              "      display: none;\n",
              "      fill: #1967D2;\n",
              "      height: 32px;\n",
              "      padding: 0 0 0 0;\n",
              "      width: 32px;\n",
              "    }\n",
              "\n",
              "    .colab-df-convert:hover {\n",
              "      background-color: #E2EBFA;\n",
              "      box-shadow: 0px 1px 2px rgba(60, 64, 67, 0.3), 0px 1px 3px 1px rgba(60, 64, 67, 0.15);\n",
              "      fill: #174EA6;\n",
              "    }\n",
              "\n",
              "    [theme=dark] .colab-df-convert {\n",
              "      background-color: #3B4455;\n",
              "      fill: #D2E3FC;\n",
              "    }\n",
              "\n",
              "    [theme=dark] .colab-df-convert:hover {\n",
              "      background-color: #434B5C;\n",
              "      box-shadow: 0px 1px 3px 1px rgba(0, 0, 0, 0.15);\n",
              "      filter: drop-shadow(0px 1px 2px rgba(0, 0, 0, 0.3));\n",
              "      fill: #FFFFFF;\n",
              "    }\n",
              "  </style>\n",
              "\n",
              "      <script>\n",
              "        const buttonEl =\n",
              "          document.querySelector('#df-8ef9006e-5d30-4a29-ad87-cf2ffdd4af31 button.colab-df-convert');\n",
              "        buttonEl.style.display =\n",
              "          google.colab.kernel.accessAllowed ? 'block' : 'none';\n",
              "\n",
              "        async function convertToInteractive(key) {\n",
              "          const element = document.querySelector('#df-8ef9006e-5d30-4a29-ad87-cf2ffdd4af31');\n",
              "          const dataTable =\n",
              "            await google.colab.kernel.invokeFunction('convertToInteractive',\n",
              "                                                     [key], {});\n",
              "          if (!dataTable) return;\n",
              "\n",
              "          const docLinkHtml = 'Like what you see? Visit the ' +\n",
              "            '<a target=\"_blank\" href=https://colab.research.google.com/notebooks/data_table.ipynb>data table notebook</a>'\n",
              "            + ' to learn more about interactive tables.';\n",
              "          element.innerHTML = '';\n",
              "          dataTable['output_type'] = 'display_data';\n",
              "          await google.colab.output.renderOutput(dataTable, element);\n",
              "          const docLink = document.createElement('div');\n",
              "          docLink.innerHTML = docLinkHtml;\n",
              "          element.appendChild(docLink);\n",
              "        }\n",
              "      </script>\n",
              "    </div>\n",
              "  </div>\n",
              "  "
            ]
          },
          "metadata": {},
          "execution_count": 21
        }
      ]
    },
    {
      "cell_type": "code",
      "source": [
        "res = sns.relplot(x='Brand',y='Range_Km',data=data)\n",
        "res = plt.xticks(rotation=90)\n",
        "sns.relplot(x='Brand',y='TopSpeed_KmH',data=data)\n",
        "res = plt.xticks(rotation=90)\n",
        "sns.relplot(x='Brand',y='PriceEuro',data=data)\n",
        "res = plt.xticks(rotation=90)"
      ],
      "metadata": {
        "colab": {
          "base_uri": "https://localhost:8080/",
          "height": 1000
        },
        "id": "GoYbhZ-F2sBr",
        "outputId": "a348c7e4-4014-479e-bb73-770933c65728"
      },
      "execution_count": 22,
      "outputs": [
        {
          "output_type": "display_data",
          "data": {
            "text/plain": [
              "<Figure size 360x360 with 1 Axes>"
            ],
            "image/png": "[encoded data removed]"
          },
          "metadata": {
            "needs_background": "light"
          }
        },
        {
          "output_type": "display_data",
          "data": {
            "text/plain": [
              "<Figure size 360x360 with 1 Axes>"
            ],
            "image/png": "[encoded data removed]"
          },
          "metadata": {
            "needs_background": "light"
          }
        },
        {
          "output_type": "display_data",
          "data": {
            "text/plain": [
              "<Figure size 360x360 with 1 Axes>"
            ],
            "image/png": "[encoded data removed]"
          },
          "metadata": {
            "needs_background": "light"
          }
        }
      ]
    },
    {
      "cell_type": "markdown",
      "source": [
        "# Buyer Behaviour w.r.t buying cars"
      ],
      "metadata": {
        "id": "2gIJiSXYNcxu"
      }
    },
    {
      "cell_type": "code",
      "source": [
        "df3=pd.read_csv('gdrive/My Drive/10x/Buyer_behavior.csv')\n",
        "df3.head()"
      ],
      "metadata": {
        "colab": {
          "base_uri": "https://localhost:8080/",
          "height": 206
        },
        "id": "AmukQPOjNgtk",
        "outputId": "1c6b3cad-3b51-4fcf-9150-ebd0ccda0fea"
      },
      "execution_count": 39,
      "outputs": [
        {
          "output_type": "execute_result",
          "data": {
            "text/plain": [
              "   Age Profession Marrital Status      Education  No of Dependents  \\\n",
              "0   27   Salaried          Single  Post Graduate                 0   \n",
              "1   35   Salaried         Married  Post Graduate                 2   \n",
              "2   45   Business         Married       Graduate                 4   \n",
              "3   41   Business         Married  Post Graduate                 3   \n",
              "4   31   Salaried         Married  Post Graduate                 2   \n",
              "\n",
              "  Personal loan House Loan Wife Working   Salary  Wife Salary  Total Salary  \\\n",
              "0           Yes         No           No   800000            0        800000   \n",
              "1           Yes        Yes          Yes  1400000       600000       2000000   \n",
              "2           Yes        Yes           No  1800000            0       1800000   \n",
              "3            No         No          Yes  1600000       600000       2200000   \n",
              "4           Yes         No          Yes  1800000       800000       2600000   \n",
              "\n",
              "     Make    Price  \n",
              "0     i20   800000  \n",
              "1    Ciaz  1000000  \n",
              "2  Duster  1200000  \n",
              "3    City  1200000  \n",
              "4     SUV  1600000  "
            ],
            "text/html": [
              "\n",
              "  <div id=\"df-4b181009-e056-4351-a16b-658bba8a6728\">\n",
              "    <div class=\"colab-df-container\">\n",
              "      <div>\n",
              "<style scoped>\n",
              "    .dataframe tbody tr th:only-of-type {\n",
              "        vertical-align: middle;\n",
              "    }\n",
              "\n",
              "    .dataframe tbody tr th {\n",
              "        vertical-align: top;\n",
              "    }\n",
              "\n",
              "    .dataframe thead th {\n",
              "        text-align: right;\n",
              "    }\n",
              "</style>\n",
              "<table border=\"1\" class=\"dataframe\">\n",
              "  <thead>\n",
              "    <tr style=\"text-align: right;\">\n",
              "      <th></th>\n",
              "      <th>Age</th>\n",
              "      <th>Profession</th>\n",
              "      <th>Marrital Status</th>\n",
              "      <th>Education</th>\n",
              "      <th>No of Dependents</th>\n",
              "      <th>Personal loan</th>\n",
              "      <th>House Loan</th>\n",
              "      <th>Wife Working</th>\n",
              "      <th>Salary</th>\n",
              "      <th>Wife Salary</th>\n",
              "      <th>Total Salary</th>\n",
              "      <th>Make</th>\n",
              "      <th>Price</th>\n",
              "    </tr>\n",
              "  </thead>\n",
              "  <tbody>\n",
              "    <tr>\n",
              "      <th>0</th>\n",
              "      <td>27</td>\n",
              "      <td>Salaried</td>\n",
              "      <td>Single</td>\n",
              "      <td>Post Graduate</td>\n",
              "      <td>0</td>\n",
              "      <td>Yes</td>\n",
              "      <td>No</td>\n",
              "      <td>No</td>\n",
              "      <td>800000</td>\n",
              "      <td>0</td>\n",
              "      <td>800000</td>\n",
              "      <td>i20</td>\n",
              "      <td>800000</td>\n",
              "    </tr>\n",
              "    <tr>\n",
              "      <th>1</th>\n",
              "      <td>35</td>\n",
              "      <td>Salaried</td>\n",
              "      <td>Married</td>\n",
              "      <td>Post Graduate</td>\n",
              "      <td>2</td>\n",
              "      <td>Yes</td>\n",
              "      <td>Yes</td>\n",
              "      <td>Yes</td>\n",
              "      <td>1400000</td>\n",
              "      <td>600000</td>\n",
              "      <td>2000000</td>\n",
              "      <td>Ciaz</td>\n",
              "      <td>1000000</td>\n",
              "    </tr>\n",
              "    <tr>\n",
              "      <th>2</th>\n",
              "      <td>45</td>\n",
              "      <td>Business</td>\n",
              "      <td>Married</td>\n",
              "      <td>Graduate</td>\n",
              "      <td>4</td>\n",
              "      <td>Yes</td>\n",
              "      <td>Yes</td>\n",
              "      <td>No</td>\n",
              "      <td>1800000</td>\n",
              "      <td>0</td>\n",
              "      <td>1800000</td>\n",
              "      <td>Duster</td>\n",
              "      <td>1200000</td>\n",
              "    </tr>\n",
              "    <tr>\n",
              "      <th>3</th>\n",
              "      <td>41</td>\n",
              "      <td>Business</td>\n",
              "      <td>Married</td>\n",
              "      <td>Post Graduate</td>\n",
              "      <td>3</td>\n",
              "      <td>No</td>\n",
              "      <td>No</td>\n",
              "      <td>Yes</td>\n",
              "      <td>1600000</td>\n",
              "      <td>600000</td>\n",
              "      <td>2200000</td>\n",
              "      <td>City</td>\n",
              "      <td>1200000</td>\n",
              "    </tr>\n",
              "    <tr>\n",
              "      <th>4</th>\n",
              "      <td>31</td>\n",
              "      <td>Salaried</td>\n",
              "      <td>Married</td>\n",
              "      <td>Post Graduate</td>\n",
              "      <td>2</td>\n",
              "      <td>Yes</td>\n",
              "      <td>No</td>\n",
              "      <td>Yes</td>\n",
              "      <td>1800000</td>\n",
              "      <td>800000</td>\n",
              "      <td>2600000</td>\n",
              "      <td>SUV</td>\n",
              "      <td>1600000</td>\n",
              "    </tr>\n",
              "  </tbody>\n",
              "</table>\n",
              "</div>\n",
              "      <button class=\"colab-df-convert\" onclick=\"convertToInteractive('df-4b181009-e056-4351-a16b-658bba8a6728')\"\n",
              "              title=\"Convert this dataframe to an interactive table.\"\n",
              "              style=\"display:none;\">\n",
              "        \n",
              "  <svg xmlns=\"http://www.w3.org/2000/svg\" height=\"24px\"viewBox=\"0 0 24 24\"\n",
              "       width=\"24px\">\n",
              "    <path d=\"M0 0h24v24H0V0z\" fill=\"none\"/>\n",
              "    <path d=\"M18.56 5.44l.94 2.06.94-2.06 2.06-.94-2.06-.94-.94-2.06-.94 2.06-2.06.94zm-11 1L8.5 8.5l.94-2.06 2.06-.94-2.06-.94L8.5 2.5l-.94 2.06-2.06.94zm10 10l.94 2.06.94-2.06 2.06-.94-2.06-.94-.94-2.06-.94 2.06-2.06.94z\"/><path d=\"M17.41 7.96l-1.37-1.37c-.4-.4-.92-.59-1.43-.59-.52 0-1.04.2-1.43.59L10.3 9.45l-7.72 7.72c-.78.78-.78 2.05 0 2.83L4 21.41c.39.39.9.59 1.41.59.51 0 1.02-.2 1.41-.59l7.78-7.78 2.81-2.81c.8-.78.8-2.07 0-2.86zM5.41 20L4 18.59l7.72-7.72 1.47 1.35L5.41 20z\"/>\n",
              "  </svg>\n",
              "      </button>\n",
              "      \n",
              "  <style>\n",
              "    .colab-df-container {\n",
              "      display:flex;\n",
              "      flex-wrap:wrap;\n",
              "      gap: 12px;\n",
              "    }\n",
              "\n",
              "    .colab-df-convert {\n",
              "      background-color: #E8F0FE;\n",
              "      border: none;\n",
              "      border-radius: 50%;\n",
              "      cursor: pointer;\n",
              "      display: none;\n",
              "      fill: #1967D2;\n",
              "      height: 32px;\n",
              "      padding: 0 0 0 0;\n",
              "      width: 32px;\n",
              "    }\n",
              "\n",
              "    .colab-df-convert:hover {\n",
              "      background-color: #E2EBFA;\n",
              "      box-shadow: 0px 1px 2px rgba(60, 64, 67, 0.3), 0px 1px 3px 1px rgba(60, 64, 67, 0.15);\n",
              "      fill: #174EA6;\n",
              "    }\n",
              "\n",
              "    [theme=dark] .colab-df-convert {\n",
              "      background-color: #3B4455;\n",
              "      fill: #D2E3FC;\n",
              "    }\n",
              "\n",
              "    [theme=dark] .colab-df-convert:hover {\n",
              "      background-color: #434B5C;\n",
              "      box-shadow: 0px 1px 3px 1px rgba(0, 0, 0, 0.15);\n",
              "      filter: drop-shadow(0px 1px 2px rgba(0, 0, 0, 0.3));\n",
              "      fill: #FFFFFF;\n",
              "    }\n",
              "  </style>\n",
              "\n",
              "      <script>\n",
              "        const buttonEl =\n",
              "          document.querySelector('#df-4b181009-e056-4351-a16b-658bba8a6728 button.colab-df-convert');\n",
              "        buttonEl.style.display =\n",
              "          google.colab.kernel.accessAllowed ? 'block' : 'none';\n",
              "\n",
              "        async function convertToInteractive(key) {\n",
              "          const element = document.querySelector('#df-4b181009-e056-4351-a16b-658bba8a6728');\n",
              "          const dataTable =\n",
              "            await google.colab.kernel.invokeFunction('convertToInteractive',\n",
              "                                                     [key], {});\n",
              "          if (!dataTable) return;\n",
              "\n",
              "          const docLinkHtml = 'Like what you see? Visit the ' +\n",
              "            '<a target=\"_blank\" href=https://colab.research.google.com/notebooks/data_table.ipynb>data table notebook</a>'\n",
              "            + ' to learn more about interactive tables.';\n",
              "          element.innerHTML = '';\n",
              "          dataTable['output_type'] = 'display_data';\n",
              "          await google.colab.output.renderOutput(dataTable, element);\n",
              "          const docLink = document.createElement('div');\n",
              "          docLink.innerHTML = docLinkHtml;\n",
              "          element.appendChild(docLink);\n",
              "        }\n",
              "      </script>\n",
              "    </div>\n",
              "  </div>\n",
              "  "
            ]
          },
          "metadata": {},
          "execution_count": 39
        }
      ]
    },
    {
      "cell_type": "code",
      "source": [
        "df3.isnull().any()"
      ],
      "metadata": {
        "colab": {
          "base_uri": "https://localhost:8080/"
        },
        "id": "a6qbkwNJNrif",
        "outputId": "eb75c977-d3ac-495e-c161-3d7b3993f0b9"
      },
      "execution_count": 40,
      "outputs": [
        {
          "output_type": "execute_result",
          "data": {
            "text/plain": [
              "Age                 False\n",
              "Profession          False\n",
              "Marrital Status     False\n",
              "Education           False\n",
              "No of Dependents    False\n",
              "Personal loan       False\n",
              "House Loan          False\n",
              "Wife Working        False\n",
              "Salary              False\n",
              "Wife Salary         False\n",
              "Total Salary        False\n",
              "Make                False\n",
              "Price               False\n",
              "dtype: bool"
            ]
          },
          "metadata": {},
          "execution_count": 40
        }
      ]
    },
    {
      "cell_type": "code",
      "source": [
        "plt.figure(figsize=(5,5))\n",
        "sns.heatmap(df3.corr(), annot=True, cmap=\"YlGnBu\")\n",
        "plt.show()"
      ],
      "metadata": {
        "colab": {
          "base_uri": "https://localhost:8080/",
          "height": 404
        },
        "id": "PWlyPDksN2P2",
        "outputId": "efda2596-420a-4f55-d299-2d746c94c518"
      },
      "execution_count": 41,
      "outputs": [
        {
          "output_type": "display_data",
          "data": {
            "text/plain": [
              "<Figure size 360x360 with 2 Axes>"
            ],
            "image/png": "[encoded data removed]"
          },
          "metadata": {
            "needs_background": "light"
          }
        }
      ]
    },
    {
      "cell_type": "code",
      "source": [
        "f = plt.figure(figsize=(30,5))\n",
        "\n",
        "ax1 = f.add_subplot(121)\n",
        "ax2 = f.add_subplot(122)\n",
        "\n",
        "y = df3['Price']\n",
        "ax1.scatter(df3['Age'], y)\n",
        "plt.ylabel(\"Price\")\n",
        "plt.xlabel(\"Age\")\n",
        "ax2.scatter(df3['Total Salary'], y)\n",
        "plt.ylabel(\"Price\")\n",
        "plt.xlabel(\"Total Salary\")"
      ],
      "metadata": {
        "colab": {
          "base_uri": "https://localhost:8080/",
          "height": 288
        },
        "id": "XKVwqn6cOEee",
        "outputId": "b409682e-c766-479a-b49e-03ba72160165"
      },
      "execution_count": 45,
      "outputs": [
        {
          "output_type": "display_data",
          "data": {
            "text/plain": [
              "<Figure size 2160x360 with 2 Axes>"
            ],
            "image/png": "[encoded data removed]"
          },
          "metadata": {
            "needs_background": "light"
          }
        }
      ]
    },
    {
      "cell_type": "code",
      "source": [
        "df3['Price'].mean()"
      ],
      "metadata": {
        "colab": {
          "base_uri": "https://localhost:8080/"
        },
        "id": "jnPrLy4LXVUV",
        "outputId": "c8b4dfaa-b470-433c-e268-68d8a2ea12d0"
      },
      "execution_count": 46,
      "outputs": [
        {
          "output_type": "execute_result",
          "data": {
            "text/plain": [
              "1194040.4040404041"
            ]
          },
          "metadata": {},
          "execution_count": 46
        }
      ]
    },
    {
      "cell_type": "markdown",
      "source": [
        "# Market Segmentation"
      ],
      "metadata": {
        "id": "g8Xywt4-QEhl"
      }
    },
    {
      "cell_type": "code",
      "source": [
        "df2.head()"
      ],
      "metadata": {
        "colab": {
          "base_uri": "https://localhost:8080/",
          "height": 250
        },
        "id": "ii9Eo3ocRkaj",
        "outputId": "8c341b82-9dc4-43bd-8857-706cffd5abcb"
      },
      "execution_count": 48,
      "outputs": [
        {
          "output_type": "execute_result",
          "data": {
            "text/plain": [
              "         Brand                          Model  AccelSec  TopSpeed_KmH  \\\n",
              "0       Tesla   Model 3 Long Range Dual Motor       4.6           233   \n",
              "1  Volkswagen                       ID.3 Pure      10.0           160   \n",
              "2    Polestar                               2       4.7           210   \n",
              "3         BMW                            iX3        6.8           180   \n",
              "4       Honda                              e        9.5           145   \n",
              "\n",
              "   Range_Km  Efficiency_WhKm FastCharge_KmH RapidCharge PowerTrain  \\\n",
              "0       450              161            940         Yes        AWD   \n",
              "1       270              167            250         Yes        RWD   \n",
              "2       400              181            620         Yes        AWD   \n",
              "3       360              206            560         Yes        RWD   \n",
              "4       170              168            190         Yes        RWD   \n",
              "\n",
              "     PlugType  BodyStyle Segment  Seats  PriceEuro  \n",
              "0  Type 2 CCS      Sedan       D      5      55480  \n",
              "1  Type 2 CCS  Hatchback       C      5      30000  \n",
              "2  Type 2 CCS   Liftback       D      5      56440  \n",
              "3  Type 2 CCS        SUV       D      5      68040  \n",
              "4  Type 2 CCS  Hatchback       B      4      32997  "
            ],
            "text/html": [
              "\n",
              "  <div id=\"df-12513edd-d513-4e9b-95a6-2da981bb8364\">\n",
              "    <div class=\"colab-df-container\">\n",
              "      <div>\n",
              "<style scoped>\n",
              "    .dataframe tbody tr th:only-of-type {\n",
              "        vertical-align: middle;\n",
              "    }\n",
              "\n",
              "    .dataframe tbody tr th {\n",
              "        vertical-align: top;\n",
              "    }\n",
              "\n",
              "    .dataframe thead th {\n",
              "        text-align: right;\n",
              "    }\n",
              "</style>\n",
              "<table border=\"1\" class=\"dataframe\">\n",
              "  <thead>\n",
              "    <tr style=\"text-align: right;\">\n",
              "      <th></th>\n",
              "      <th>Brand</th>\n",
              "      <th>Model</th>\n",
              "      <th>AccelSec</th>\n",
              "      <th>TopSpeed_KmH</th>\n",
              "      <th>Range_Km</th>\n",
              "      <th>Efficiency_WhKm</th>\n",
              "      <th>FastCharge_KmH</th>\n",
              "      <th>RapidCharge</th>\n",
              "      <th>PowerTrain</th>\n",
              "      <th>PlugType</th>\n",
              "      <th>BodyStyle</th>\n",
              "      <th>Segment</th>\n",
              "      <th>Seats</th>\n",
              "      <th>PriceEuro</th>\n",
              "    </tr>\n",
              "  </thead>\n",
              "  <tbody>\n",
              "    <tr>\n",
              "      <th>0</th>\n",
              "      <td>Tesla</td>\n",
              "      <td>Model 3 Long Range Dual Motor</td>\n",
              "      <td>4.6</td>\n",
              "      <td>233</td>\n",
              "      <td>450</td>\n",
              "      <td>161</td>\n",
              "      <td>940</td>\n",
              "      <td>Yes</td>\n",
              "      <td>AWD</td>\n",
              "      <td>Type 2 CCS</td>\n",
              "      <td>Sedan</td>\n",
              "      <td>D</td>\n",
              "      <td>5</td>\n",
              "      <td>55480</td>\n",
              "    </tr>\n",
              "    <tr>\n",
              "      <th>1</th>\n",
              "      <td>Volkswagen</td>\n",
              "      <td>ID.3 Pure</td>\n",
              "      <td>10.0</td>\n",
              "      <td>160</td>\n",
              "      <td>270</td>\n",
              "      <td>167</td>\n",
              "      <td>250</td>\n",
              "      <td>Yes</td>\n",
              "      <td>RWD</td>\n",
              "      <td>Type 2 CCS</td>\n",
              "      <td>Hatchback</td>\n",
              "      <td>C</td>\n",
              "      <td>5</td>\n",
              "      <td>30000</td>\n",
              "    </tr>\n",
              "    <tr>\n",
              "      <th>2</th>\n",
              "      <td>Polestar</td>\n",
              "      <td>2</td>\n",
              "      <td>4.7</td>\n",
              "      <td>210</td>\n",
              "      <td>400</td>\n",
              "      <td>181</td>\n",
              "      <td>620</td>\n",
              "      <td>Yes</td>\n",
              "      <td>AWD</td>\n",
              "      <td>Type 2 CCS</td>\n",
              "      <td>Liftback</td>\n",
              "      <td>D</td>\n",
              "      <td>5</td>\n",
              "      <td>56440</td>\n",
              "    </tr>\n",
              "    <tr>\n",
              "      <th>3</th>\n",
              "      <td>BMW</td>\n",
              "      <td>iX3</td>\n",
              "      <td>6.8</td>\n",
              "      <td>180</td>\n",
              "      <td>360</td>\n",
              "      <td>206</td>\n",
              "      <td>560</td>\n",
              "      <td>Yes</td>\n",
              "      <td>RWD</td>\n",
              "      <td>Type 2 CCS</td>\n",
              "      <td>SUV</td>\n",
              "      <td>D</td>\n",
              "      <td>5</td>\n",
              "      <td>68040</td>\n",
              "    </tr>\n",
              "    <tr>\n",
              "      <th>4</th>\n",
              "      <td>Honda</td>\n",
              "      <td>e</td>\n",
              "      <td>9.5</td>\n",
              "      <td>145</td>\n",
              "      <td>170</td>\n",
              "      <td>168</td>\n",
              "      <td>190</td>\n",
              "      <td>Yes</td>\n",
              "      <td>RWD</td>\n",
              "      <td>Type 2 CCS</td>\n",
              "      <td>Hatchback</td>\n",
              "      <td>B</td>\n",
              "      <td>4</td>\n",
              "      <td>32997</td>\n",
              "    </tr>\n",
              "  </tbody>\n",
              "</table>\n",
              "</div>\n",
              "      <button class=\"colab-df-convert\" onclick=\"convertToInteractive('df-12513edd-d513-4e9b-95a6-2da981bb8364')\"\n",
              "              title=\"Convert this dataframe to an interactive table.\"\n",
              "              style=\"display:none;\">\n",
              "        \n",
              "  <svg xmlns=\"http://www.w3.org/2000/svg\" height=\"24px\"viewBox=\"0 0 24 24\"\n",
              "       width=\"24px\">\n",
              "    <path d=\"M0 0h24v24H0V0z\" fill=\"none\"/>\n",
              "    <path d=\"M18.56 5.44l.94 2.06.94-2.06 2.06-.94-2.06-.94-.94-2.06-.94 2.06-2.06.94zm-11 1L8.5 8.5l.94-2.06 2.06-.94-2.06-.94L8.5 2.5l-.94 2.06-2.06.94zm10 10l.94 2.06.94-2.06 2.06-.94-2.06-.94-.94-2.06-.94 2.06-2.06.94z\"/><path d=\"M17.41 7.96l-1.37-1.37c-.4-.4-.92-.59-1.43-.59-.52 0-1.04.2-1.43.59L10.3 9.45l-7.72 7.72c-.78.78-.78 2.05 0 2.83L4 21.41c.39.39.9.59 1.41.59.51 0 1.02-.2 1.41-.59l7.78-7.78 2.81-2.81c.8-.78.8-2.07 0-2.86zM5.41 20L4 18.59l7.72-7.72 1.47 1.35L5.41 20z\"/>\n",
              "  </svg>\n",
              "      </button>\n",
              "      \n",
              "  <style>\n",
              "    .colab-df-container {\n",
              "      display:flex;\n",
              "      flex-wrap:wrap;\n",
              "      gap: 12px;\n",
              "    }\n",
              "\n",
              "    .colab-df-convert {\n",
              "      background-color: #E8F0FE;\n",
              "      border: none;\n",
              "      border-radius: 50%;\n",
              "      cursor: pointer;\n",
              "      display: none;\n",
              "      fill: #1967D2;\n",
              "      height: 32px;\n",
              "      padding: 0 0 0 0;\n",
              "      width: 32px;\n",
              "    }\n",
              "\n",
              "    .colab-df-convert:hover {\n",
              "      background-color: #E2EBFA;\n",
              "      box-shadow: 0px 1px 2px rgba(60, 64, 67, 0.3), 0px 1px 3px 1px rgba(60, 64, 67, 0.15);\n",
              "      fill: #174EA6;\n",
              "    }\n",
              "\n",
              "    [theme=dark] .colab-df-convert {\n",
              "      background-color: #3B4455;\n",
              "      fill: #D2E3FC;\n",
              "    }\n",
              "\n",
              "    [theme=dark] .colab-df-convert:hover {\n",
              "      background-color: #434B5C;\n",
              "      box-shadow: 0px 1px 3px 1px rgba(0, 0, 0, 0.15);\n",
              "      filter: drop-shadow(0px 1px 2px rgba(0, 0, 0, 0.3));\n",
              "      fill: #FFFFFF;\n",
              "    }\n",
              "  </style>\n",
              "\n",
              "      <script>\n",
              "        const buttonEl =\n",
              "          document.querySelector('#df-12513edd-d513-4e9b-95a6-2da981bb8364 button.colab-df-convert');\n",
              "        buttonEl.style.display =\n",
              "          google.colab.kernel.accessAllowed ? 'block' : 'none';\n",
              "\n",
              "        async function convertToInteractive(key) {\n",
              "          const element = document.querySelector('#df-12513edd-d513-4e9b-95a6-2da981bb8364');\n",
              "          const dataTable =\n",
              "            await google.colab.kernel.invokeFunction('convertToInteractive',\n",
              "                                                     [key], {});\n",
              "          if (!dataTable) return;\n",
              "\n",
              "          const docLinkHtml = 'Like what you see? Visit the ' +\n",
              "            '<a target=\"_blank\" href=https://colab.research.google.com/notebooks/data_table.ipynb>data table notebook</a>'\n",
              "            + ' to learn more about interactive tables.';\n",
              "          element.innerHTML = '';\n",
              "          dataTable['output_type'] = 'display_data';\n",
              "          await google.colab.output.renderOutput(dataTable, element);\n",
              "          const docLink = document.createElement('div');\n",
              "          docLink.innerHTML = docLinkHtml;\n",
              "          element.appendChild(docLink);\n",
              "        }\n",
              "      </script>\n",
              "    </div>\n",
              "  </div>\n",
              "  "
            ]
          },
          "metadata": {},
          "execution_count": 48
        }
      ]
    },
    {
      "cell_type": "code",
      "source": [
        "print('RapidCharge')\n",
        "print(df2['RapidCharge'].value_counts())\n",
        "print('PowerTrain')\n",
        "print(df2['PowerTrain'].value_counts())\n",
        "print('PlugType')\n",
        "print(df2['PlugType'].value_counts())\n",
        "print('BodyStyle')\n",
        "print(df2['BodyStyle'].value_counts())\n",
        "print('Segment')\n",
        "print(df2['Segment'].value_counts())"
      ],
      "metadata": {
        "colab": {
          "base_uri": "https://localhost:8080/"
        },
        "id": "lUMkLUWESmod",
        "outputId": "8589ca7b-557f-4a0e-8cd0-a475c565c975"
      },
      "execution_count": 49,
      "outputs": [
        {
          "output_type": "stream",
          "name": "stdout",
          "text": [
            "RapidCharge\n",
            "Yes    98\n",
            "No      5\n",
            "Name: RapidCharge, dtype: int64\n",
            "PowerTrain\n",
            "AWD    41\n",
            "FWD    37\n",
            "RWD    25\n",
            "Name: PowerTrain, dtype: int64\n",
            "PlugType\n",
            "Type 2 CCS        90\n",
            "Type 2             9\n",
            "Type 2 CHAdeMO     3\n",
            "Type 1 CHAdeMO     1\n",
            "Name: PlugType, dtype: int64\n",
            "BodyStyle\n",
            "SUV          45\n",
            "Hatchback    32\n",
            "Sedan        10\n",
            "Liftback      5\n",
            "Pickup        3\n",
            "Cabrio        3\n",
            "SPV           3\n",
            "MPV           1\n",
            "Station       1\n",
            "Name: BodyStyle, dtype: int64\n",
            "Segment\n",
            "C    30\n",
            "B    22\n",
            "D    15\n",
            "F    12\n",
            "E    10\n",
            "A     7\n",
            "N     6\n",
            "S     1\n",
            "Name: Segment, dtype: int64\n"
          ]
        }
      ]
    },
    {
      "cell_type": "code",
      "source": [
        "df2['RapidCharge'] = df2['RapidCharge'].astype('category')\n",
        "df2['RapidCharge'] = df2['RapidCharge'].cat.codes\n",
        "\n",
        "df2['PowerTrain'] = df2['PowerTrain'].astype('category')\n",
        "df2['PowerTrain'] = df2['PowerTrain'].cat.codes\n",
        "\n",
        "df2['PlugType'] = df2['PlugType'].astype('category')\n",
        "df2['PlugType'] = df2['PlugType'].cat.codes\n",
        "\n",
        "df2['BodyStyle'] = df2['BodyStyle'].astype('category')\n",
        "df2['BodyStyle'] = df2['BodyStyle'].cat.codes\n",
        "\n",
        "df2['Segment'] = df2['Segment'].astype('category')\n",
        "df2['Segment'] = df2['Segment'].cat.codes"
      ],
      "metadata": {
        "id": "Fwjmy6k1SCP9"
      },
      "execution_count": 50,
      "outputs": []
    },
    {
      "cell_type": "code",
      "source": [
        "df2.head()"
      ],
      "metadata": {
        "colab": {
          "base_uri": "https://localhost:8080/",
          "height": 250
        },
        "id": "SkEkqBcfSgKO",
        "outputId": "90e6fd57-855b-4880-e8a8-a231f660f848"
      },
      "execution_count": 51,
      "outputs": [
        {
          "output_type": "execute_result",
          "data": {
            "text/plain": [
              "         Brand                          Model  AccelSec  TopSpeed_KmH  \\\n",
              "0       Tesla   Model 3 Long Range Dual Motor       4.6           233   \n",
              "1  Volkswagen                       ID.3 Pure      10.0           160   \n",
              "2    Polestar                               2       4.7           210   \n",
              "3         BMW                            iX3        6.8           180   \n",
              "4       Honda                              e        9.5           145   \n",
              "\n",
              "   Range_Km  Efficiency_WhKm FastCharge_KmH  RapidCharge  PowerTrain  \\\n",
              "0       450              161            940            1           0   \n",
              "1       270              167            250            1           2   \n",
              "2       400              181            620            1           0   \n",
              "3       360              206            560            1           2   \n",
              "4       170              168            190            1           2   \n",
              "\n",
              "   PlugType  BodyStyle  Segment  Seats  PriceEuro  \n",
              "0         2          7        3      5      55480  \n",
              "1         2          1        2      5      30000  \n",
              "2         2          2        3      5      56440  \n",
              "3         2          6        3      5      68040  \n",
              "4         2          1        1      4      32997  "
            ],
            "text/html": [
              "\n",
              "  <div id=\"df-742bdc87-d010-4ce6-b343-2a51da1dfb67\">\n",
              "    <div class=\"colab-df-container\">\n",
              "      <div>\n",
              "<style scoped>\n",
              "    .dataframe tbody tr th:only-of-type {\n",
              "        vertical-align: middle;\n",
              "    }\n",
              "\n",
              "    .dataframe tbody tr th {\n",
              "        vertical-align: top;\n",
              "    }\n",
              "\n",
              "    .dataframe thead th {\n",
              "        text-align: right;\n",
              "    }\n",
              "</style>\n",
              "<table border=\"1\" class=\"dataframe\">\n",
              "  <thead>\n",
              "    <tr style=\"text-align: right;\">\n",
              "      <th></th>\n",
              "      <th>Brand</th>\n",
              "      <th>Model</th>\n",
              "      <th>AccelSec</th>\n",
              "      <th>TopSpeed_KmH</th>\n",
              "      <th>Range_Km</th>\n",
              "      <th>Efficiency_WhKm</th>\n",
              "      <th>FastCharge_KmH</th>\n",
              "      <th>RapidCharge</th>\n",
              "      <th>PowerTrain</th>\n",
              "      <th>PlugType</th>\n",
              "      <th>BodyStyle</th>\n",
              "      <th>Segment</th>\n",
              "      <th>Seats</th>\n",
              "      <th>PriceEuro</th>\n",
              "    </tr>\n",
              "  </thead>\n",
              "  <tbody>\n",
              "    <tr>\n",
              "      <th>0</th>\n",
              "      <td>Tesla</td>\n",
              "      <td>Model 3 Long Range Dual Motor</td>\n",
              "      <td>4.6</td>\n",
              "      <td>233</td>\n",
              "      <td>450</td>\n",
              "      <td>161</td>\n",
              "      <td>940</td>\n",
              "      <td>1</td>\n",
              "      <td>0</td>\n",
              "      <td>2</td>\n",
              "      <td>7</td>\n",
              "      <td>3</td>\n",
              "      <td>5</td>\n",
              "      <td>55480</td>\n",
              "    </tr>\n",
              "    <tr>\n",
              "      <th>1</th>\n",
              "      <td>Volkswagen</td>\n",
              "      <td>ID.3 Pure</td>\n",
              "      <td>10.0</td>\n",
              "      <td>160</td>\n",
              "      <td>270</td>\n",
              "      <td>167</td>\n",
              "      <td>250</td>\n",
              "      <td>1</td>\n",
              "      <td>2</td>\n",
              "      <td>2</td>\n",
              "      <td>1</td>\n",
              "      <td>2</td>\n",
              "      <td>5</td>\n",
              "      <td>30000</td>\n",
              "    </tr>\n",
              "    <tr>\n",
              "      <th>2</th>\n",
              "      <td>Polestar</td>\n",
              "      <td>2</td>\n",
              "      <td>4.7</td>\n",
              "      <td>210</td>\n",
              "      <td>400</td>\n",
              "      <td>181</td>\n",
              "      <td>620</td>\n",
              "      <td>1</td>\n",
              "      <td>0</td>\n",
              "      <td>2</td>\n",
              "      <td>2</td>\n",
              "      <td>3</td>\n",
              "      <td>5</td>\n",
              "      <td>56440</td>\n",
              "    </tr>\n",
              "    <tr>\n",
              "      <th>3</th>\n",
              "      <td>BMW</td>\n",
              "      <td>iX3</td>\n",
              "      <td>6.8</td>\n",
              "      <td>180</td>\n",
              "      <td>360</td>\n",
              "      <td>206</td>\n",
              "      <td>560</td>\n",
              "      <td>1</td>\n",
              "      <td>2</td>\n",
              "      <td>2</td>\n",
              "      <td>6</td>\n",
              "      <td>3</td>\n",
              "      <td>5</td>\n",
              "      <td>68040</td>\n",
              "    </tr>\n",
              "    <tr>\n",
              "      <th>4</th>\n",
              "      <td>Honda</td>\n",
              "      <td>e</td>\n",
              "      <td>9.5</td>\n",
              "      <td>145</td>\n",
              "      <td>170</td>\n",
              "      <td>168</td>\n",
              "      <td>190</td>\n",
              "      <td>1</td>\n",
              "      <td>2</td>\n",
              "      <td>2</td>\n",
              "      <td>1</td>\n",
              "      <td>1</td>\n",
              "      <td>4</td>\n",
              "      <td>32997</td>\n",
              "    </tr>\n",
              "  </tbody>\n",
              "</table>\n",
              "</div>\n",
              "      <button class=\"colab-df-convert\" onclick=\"convertToInteractive('df-742bdc87-d010-4ce6-b343-2a51da1dfb67')\"\n",
              "              title=\"Convert this dataframe to an interactive table.\"\n",
              "              style=\"display:none;\">\n",
              "        \n",
              "  <svg xmlns=\"http://www.w3.org/2000/svg\" height=\"24px\"viewBox=\"0 0 24 24\"\n",
              "       width=\"24px\">\n",
              "    <path d=\"M0 0h24v24H0V0z\" fill=\"none\"/>\n",
              "    <path d=\"M18.56 5.44l.94 2.06.94-2.06 2.06-.94-2.06-.94-.94-2.06-.94 2.06-2.06.94zm-11 1L8.5 8.5l.94-2.06 2.06-.94-2.06-.94L8.5 2.5l-.94 2.06-2.06.94zm10 10l.94 2.06.94-2.06 2.06-.94-2.06-.94-.94-2.06-.94 2.06-2.06.94z\"/><path d=\"M17.41 7.96l-1.37-1.37c-.4-.4-.92-.59-1.43-.59-.52 0-1.04.2-1.43.59L10.3 9.45l-7.72 7.72c-.78.78-.78 2.05 0 2.83L4 21.41c.39.39.9.59 1.41.59.51 0 1.02-.2 1.41-.59l7.78-7.78 2.81-2.81c.8-.78.8-2.07 0-2.86zM5.41 20L4 18.59l7.72-7.72 1.47 1.35L5.41 20z\"/>\n",
              "  </svg>\n",
              "      </button>\n",
              "      \n",
              "  <style>\n",
              "    .colab-df-container {\n",
              "      display:flex;\n",
              "      flex-wrap:wrap;\n",
              "      gap: 12px;\n",
              "    }\n",
              "\n",
              "    .colab-df-convert {\n",
              "      background-color: #E8F0FE;\n",
              "      border: none;\n",
              "      border-radius: 50%;\n",
              "      cursor: pointer;\n",
              "      display: none;\n",
              "      fill: #1967D2;\n",
              "      height: 32px;\n",
              "      padding: 0 0 0 0;\n",
              "      width: 32px;\n",
              "    }\n",
              "\n",
              "    .colab-df-convert:hover {\n",
              "      background-color: #E2EBFA;\n",
              "      box-shadow: 0px 1px 2px rgba(60, 64, 67, 0.3), 0px 1px 3px 1px rgba(60, 64, 67, 0.15);\n",
              "      fill: #174EA6;\n",
              "    }\n",
              "\n",
              "    [theme=dark] .colab-df-convert {\n",
              "      background-color: #3B4455;\n",
              "      fill: #D2E3FC;\n",
              "    }\n",
              "\n",
              "    [theme=dark] .colab-df-convert:hover {\n",
              "      background-color: #434B5C;\n",
              "      box-shadow: 0px 1px 3px 1px rgba(0, 0, 0, 0.15);\n",
              "      filter: drop-shadow(0px 1px 2px rgba(0, 0, 0, 0.3));\n",
              "      fill: #FFFFFF;\n",
              "    }\n",
              "  </style>\n",
              "\n",
              "      <script>\n",
              "        const buttonEl =\n",
              "          document.querySelector('#df-742bdc87-d010-4ce6-b343-2a51da1dfb67 button.colab-df-convert');\n",
              "        buttonEl.style.display =\n",
              "          google.colab.kernel.accessAllowed ? 'block' : 'none';\n",
              "\n",
              "        async function convertToInteractive(key) {\n",
              "          const element = document.querySelector('#df-742bdc87-d010-4ce6-b343-2a51da1dfb67');\n",
              "          const dataTable =\n",
              "            await google.colab.kernel.invokeFunction('convertToInteractive',\n",
              "                                                     [key], {});\n",
              "          if (!dataTable) return;\n",
              "\n",
              "          const docLinkHtml = 'Like what you see? Visit the ' +\n",
              "            '<a target=\"_blank\" href=https://colab.research.google.com/notebooks/data_table.ipynb>data table notebook</a>'\n",
              "            + ' to learn more about interactive tables.';\n",
              "          element.innerHTML = '';\n",
              "          dataTable['output_type'] = 'display_data';\n",
              "          await google.colab.output.renderOutput(dataTable, element);\n",
              "          const docLink = document.createElement('div');\n",
              "          docLink.innerHTML = docLinkHtml;\n",
              "          element.appendChild(docLink);\n",
              "        }\n",
              "      </script>\n",
              "    </div>\n",
              "  </div>\n",
              "  "
            ]
          },
          "metadata": {},
          "execution_count": 51
        }
      ]
    },
    {
      "cell_type": "code",
      "source": [
        "from sklearn.decomposition import PCA\n",
        "from sklearn import preprocessing\n",
        "pca = PCA()\n",
        "dat = df2.drop(df2.columns[0],axis=1)\n",
        "dat = dat.drop(dat.columns[0],axis=1)\n",
        "dat.FastCharge_KmH = dat.FastCharge_KmH.replace({\"-\":0})\n",
        "dat['FastCharge_KmH'] = pd.to_numeric(dat['FastCharge_KmH'])\n",
        "dat.FastCharge_KmH = dat.FastCharge_KmH.replace({\"-\":dat.FastCharge_KmH.mean()})\n",
        "dat.head()\n",
        "#pca.fit(dat)\n",
        "#pca.explained_variance_ratio_"
      ],
      "metadata": {
        "colab": {
          "base_uri": "https://localhost:8080/",
          "height": 206
        },
        "id": "whiSt3YvQGQb",
        "outputId": "4383871e-c2b4-4e8d-db3c-f8a67d362c05"
      },
      "execution_count": 52,
      "outputs": [
        {
          "output_type": "execute_result",
          "data": {
            "text/plain": [
              "   AccelSec  TopSpeed_KmH  Range_Km  Efficiency_WhKm  FastCharge_KmH  \\\n",
              "0       4.6           233       450              161             940   \n",
              "1      10.0           160       270              167             250   \n",
              "2       4.7           210       400              181             620   \n",
              "3       6.8           180       360              206             560   \n",
              "4       9.5           145       170              168             190   \n",
              "\n",
              "   RapidCharge  PowerTrain  PlugType  BodyStyle  Segment  Seats  PriceEuro  \n",
              "0            1           0         2          7        3      5      55480  \n",
              "1            1           2         2          1        2      5      30000  \n",
              "2            1           0         2          2        3      5      56440  \n",
              "3            1           2         2          6        3      5      68040  \n",
              "4            1           2         2          1        1      4      32997  "
            ],
            "text/html": [
              "\n",
              "  <div id=\"df-1bc41c37-ee24-4a99-b82a-0283cd12640b\">\n",
              "    <div class=\"colab-df-container\">\n",
              "      <div>\n",
              "<style scoped>\n",
              "    .dataframe tbody tr th:only-of-type {\n",
              "        vertical-align: middle;\n",
              "    }\n",
              "\n",
              "    .dataframe tbody tr th {\n",
              "        vertical-align: top;\n",
              "    }\n",
              "\n",
              "    .dataframe thead th {\n",
              "        text-align: right;\n",
              "    }\n",
              "</style>\n",
              "<table border=\"1\" class=\"dataframe\">\n",
              "  <thead>\n",
              "    <tr style=\"text-align: right;\">\n",
              "      <th></th>\n",
              "      <th>AccelSec</th>\n",
              "      <th>TopSpeed_KmH</th>\n",
              "      <th>Range_Km</th>\n",
              "      <th>Efficiency_WhKm</th>\n",
              "      <th>FastCharge_KmH</th>\n",
              "      <th>RapidCharge</th>\n",
              "      <th>PowerTrain</th>\n",
              "      <th>PlugType</th>\n",
              "      <th>BodyStyle</th>\n",
              "      <th>Segment</th>\n",
              "      <th>Seats</th>\n",
              "      <th>PriceEuro</th>\n",
              "    </tr>\n",
              "  </thead>\n",
              "  <tbody>\n",
              "    <tr>\n",
              "      <th>0</th>\n",
              "      <td>4.6</td>\n",
              "      <td>233</td>\n",
              "      <td>450</td>\n",
              "      <td>161</td>\n",
              "      <td>940</td>\n",
              "      <td>1</td>\n",
              "      <td>0</td>\n",
              "      <td>2</td>\n",
              "      <td>7</td>\n",
              "      <td>3</td>\n",
              "      <td>5</td>\n",
              "      <td>55480</td>\n",
              "    </tr>\n",
              "    <tr>\n",
              "      <th>1</th>\n",
              "      <td>10.0</td>\n",
              "      <td>160</td>\n",
              "      <td>270</td>\n",
              "      <td>167</td>\n",
              "      <td>250</td>\n",
              "      <td>1</td>\n",
              "      <td>2</td>\n",
              "      <td>2</td>\n",
              "      <td>1</td>\n",
              "      <td>2</td>\n",
              "      <td>5</td>\n",
              "      <td>30000</td>\n",
              "    </tr>\n",
              "    <tr>\n",
              "      <th>2</th>\n",
              "      <td>4.7</td>\n",
              "      <td>210</td>\n",
              "      <td>400</td>\n",
              "      <td>181</td>\n",
              "      <td>620</td>\n",
              "      <td>1</td>\n",
              "      <td>0</td>\n",
              "      <td>2</td>\n",
              "      <td>2</td>\n",
              "      <td>3</td>\n",
              "      <td>5</td>\n",
              "      <td>56440</td>\n",
              "    </tr>\n",
              "    <tr>\n",
              "      <th>3</th>\n",
              "      <td>6.8</td>\n",
              "      <td>180</td>\n",
              "      <td>360</td>\n",
              "      <td>206</td>\n",
              "      <td>560</td>\n",
              "      <td>1</td>\n",
              "      <td>2</td>\n",
              "      <td>2</td>\n",
              "      <td>6</td>\n",
              "      <td>3</td>\n",
              "      <td>5</td>\n",
              "      <td>68040</td>\n",
              "    </tr>\n",
              "    <tr>\n",
              "      <th>4</th>\n",
              "      <td>9.5</td>\n",
              "      <td>145</td>\n",
              "      <td>170</td>\n",
              "      <td>168</td>\n",
              "      <td>190</td>\n",
              "      <td>1</td>\n",
              "      <td>2</td>\n",
              "      <td>2</td>\n",
              "      <td>1</td>\n",
              "      <td>1</td>\n",
              "      <td>4</td>\n",
              "      <td>32997</td>\n",
              "    </tr>\n",
              "  </tbody>\n",
              "</table>\n",
              "</div>\n",
              "      <button class=\"colab-df-convert\" onclick=\"convertToInteractive('df-1bc41c37-ee24-4a99-b82a-0283cd12640b')\"\n",
              "              title=\"Convert this dataframe to an interactive table.\"\n",
              "              style=\"display:none;\">\n",
              "        \n",
              "  <svg xmlns=\"http://www.w3.org/2000/svg\" height=\"24px\"viewBox=\"0 0 24 24\"\n",
              "       width=\"24px\">\n",
              "    <path d=\"M0 0h24v24H0V0z\" fill=\"none\"/>\n",
              "    <path d=\"M18.56 5.44l.94 2.06.94-2.06 2.06-.94-2.06-.94-.94-2.06-.94 2.06-2.06.94zm-11 1L8.5 8.5l.94-2.06 2.06-.94-2.06-.94L8.5 2.5l-.94 2.06-2.06.94zm10 10l.94 2.06.94-2.06 2.06-.94-2.06-.94-.94-2.06-.94 2.06-2.06.94z\"/><path d=\"M17.41 7.96l-1.37-1.37c-.4-.4-.92-.59-1.43-.59-.52 0-1.04.2-1.43.59L10.3 9.45l-7.72 7.72c-.78.78-.78 2.05 0 2.83L4 21.41c.39.39.9.59 1.41.59.51 0 1.02-.2 1.41-.59l7.78-7.78 2.81-2.81c.8-.78.8-2.07 0-2.86zM5.41 20L4 18.59l7.72-7.72 1.47 1.35L5.41 20z\"/>\n",
              "  </svg>\n",
              "      </button>\n",
              "      \n",
              "  <style>\n",
              "    .colab-df-container {\n",
              "      display:flex;\n",
              "      flex-wrap:wrap;\n",
              "      gap: 12px;\n",
              "    }\n",
              "\n",
              "    .colab-df-convert {\n",
              "      background-color: #E8F0FE;\n",
              "      border: none;\n",
              "      border-radius: 50%;\n",
              "      cursor: pointer;\n",
              "      display: none;\n",
              "      fill: #1967D2;\n",
              "      height: 32px;\n",
              "      padding: 0 0 0 0;\n",
              "      width: 32px;\n",
              "    }\n",
              "\n",
              "    .colab-df-convert:hover {\n",
              "      background-color: #E2EBFA;\n",
              "      box-shadow: 0px 1px 2px rgba(60, 64, 67, 0.3), 0px 1px 3px 1px rgba(60, 64, 67, 0.15);\n",
              "      fill: #174EA6;\n",
              "    }\n",
              "\n",
              "    [theme=dark] .colab-df-convert {\n",
              "      background-color: #3B4455;\n",
              "      fill: #D2E3FC;\n",
              "    }\n",
              "\n",
              "    [theme=dark] .colab-df-convert:hover {\n",
              "      background-color: #434B5C;\n",
              "      box-shadow: 0px 1px 3px 1px rgba(0, 0, 0, 0.15);\n",
              "      filter: drop-shadow(0px 1px 2px rgba(0, 0, 0, 0.3));\n",
              "      fill: #FFFFFF;\n",
              "    }\n",
              "  </style>\n",
              "\n",
              "      <script>\n",
              "        const buttonEl =\n",
              "          document.querySelector('#df-1bc41c37-ee24-4a99-b82a-0283cd12640b button.colab-df-convert');\n",
              "        buttonEl.style.display =\n",
              "          google.colab.kernel.accessAllowed ? 'block' : 'none';\n",
              "\n",
              "        async function convertToInteractive(key) {\n",
              "          const element = document.querySelector('#df-1bc41c37-ee24-4a99-b82a-0283cd12640b');\n",
              "          const dataTable =\n",
              "            await google.colab.kernel.invokeFunction('convertToInteractive',\n",
              "                                                     [key], {});\n",
              "          if (!dataTable) return;\n",
              "\n",
              "          const docLinkHtml = 'Like what you see? Visit the ' +\n",
              "            '<a target=\"_blank\" href=https://colab.research.google.com/notebooks/data_table.ipynb>data table notebook</a>'\n",
              "            + ' to learn more about interactive tables.';\n",
              "          element.innerHTML = '';\n",
              "          dataTable['output_type'] = 'display_data';\n",
              "          await google.colab.output.renderOutput(dataTable, element);\n",
              "          const docLink = document.createElement('div');\n",
              "          docLink.innerHTML = docLinkHtml;\n",
              "          element.appendChild(docLink);\n",
              "        }\n",
              "      </script>\n",
              "    </div>\n",
              "  </div>\n",
              "  "
            ]
          },
          "metadata": {},
          "execution_count": 52
        }
      ]
    },
    {
      "cell_type": "code",
      "source": [
        "dat.info()"
      ],
      "metadata": {
        "colab": {
          "base_uri": "https://localhost:8080/"
        },
        "id": "EVAAKg9YgO_y",
        "outputId": "230d2525-2450-471a-af18-789ad297af82"
      },
      "execution_count": 53,
      "outputs": [
        {
          "output_type": "stream",
          "name": "stdout",
          "text": [
            "<class 'pandas.core.frame.DataFrame'>\n",
            "RangeIndex: 103 entries, 0 to 102\n",
            "Data columns (total 12 columns):\n",
            " #   Column           Non-Null Count  Dtype  \n",
            "---  ------           --------------  -----  \n",
            " 0   AccelSec         103 non-null    float64\n",
            " 1   TopSpeed_KmH     103 non-null    int64  \n",
            " 2   Range_Km         103 non-null    int64  \n",
            " 3   Efficiency_WhKm  103 non-null    int64  \n",
            " 4   FastCharge_KmH   103 non-null    int64  \n",
            " 5   RapidCharge      103 non-null    int8   \n",
            " 6   PowerTrain       103 non-null    int8   \n",
            " 7   PlugType         103 non-null    int8   \n",
            " 8   BodyStyle        103 non-null    int8   \n",
            " 9   Segment          103 non-null    int8   \n",
            " 10  Seats            103 non-null    int64  \n",
            " 11  PriceEuro        103 non-null    int64  \n",
            "dtypes: float64(1), int64(6), int8(5)\n",
            "memory usage: 6.3 KB\n"
          ]
        }
      ]
    },
    {
      "cell_type": "code",
      "source": [
        "# dat['PriceEuro'] = (dat['PriceEuro']-dat['PriceEuro'].mean())/(dat['PriceEuro'].std())\n",
        "# df['FastCharge_KmH'] = (df['FastCharge_KmH']-df['FastCharge_KmH'].mean())/(df['FastCharge_KmH'].std())\n",
        "# df['VisitFrequency'] = (df['VisitFrequency']-df['VisitFrequency'].mean())/(df['VisitFrequency'].std())\n",
        "dat1=(dat-dat.mean())/dat.std()\n",
        "dat1.head()"
      ],
      "metadata": {
        "colab": {
          "base_uri": "https://localhost:8080/",
          "height": 206
        },
        "id": "6y3WD43Uim6S",
        "outputId": "fff1bebe-7d22-49b8-9964-b5d617b920a1"
      },
      "execution_count": 54,
      "outputs": [
        {
          "output_type": "execute_result",
          "data": {
            "text/plain": [
              "   AccelSec  TopSpeed_KmH  Range_Km  Efficiency_WhKm  FastCharge_KmH  \\\n",
              "0 -0.926655      1.234842  0.882546        -0.952589        2.300996   \n",
              "1  0.862947     -0.440506 -0.545861        -0.749659       -0.840222   \n",
              "2 -0.893514      0.706993  0.485766        -0.276156        0.844199   \n",
              "3 -0.197558      0.018494  0.168343         0.569386        0.571050   \n",
              "4  0.697243     -0.784755 -1.339421        -0.715837       -1.113371   \n",
              "\n",
              "   RapidCharge  PowerTrain  PlugType  BodyStyle   Segment     Seats  PriceEuro  \n",
              "0     0.224778   -1.070398  0.200029   1.161775  0.222937  0.146393  -0.009713  \n",
              "1     0.224778    1.464108  0.200029  -1.223531 -0.365845  0.146393  -0.756169  \n",
              "2     0.224778   -1.070398  0.200029  -0.825980  0.222937  0.146393   0.018411  \n",
              "3     0.224778    1.464108  0.200029   0.764224  0.222937  0.146393   0.358241  \n",
              "4     0.224778    1.464108  0.200029  -1.223531 -0.954627 -1.110149  -0.668369  "
            ],
            "text/html": [
              "\n",
              "  <div id=\"df-373da11a-2b54-4e4f-ada2-5698cc2680ba\">\n",
              "    <div class=\"colab-df-container\">\n",
              "      <div>\n",
              "<style scoped>\n",
              "    .dataframe tbody tr th:only-of-type {\n",
              "        vertical-align: middle;\n",
              "    }\n",
              "\n",
              "    .dataframe tbody tr th {\n",
              "        vertical-align: top;\n",
              "    }\n",
              "\n",
              "    .dataframe thead th {\n",
              "        text-align: right;\n",
              "    }\n",
              "</style>\n",
              "<table border=\"1\" class=\"dataframe\">\n",
              "  <thead>\n",
              "    <tr style=\"text-align: right;\">\n",
              "      <th></th>\n",
              "      <th>AccelSec</th>\n",
              "      <th>TopSpeed_KmH</th>\n",
              "      <th>Range_Km</th>\n",
              "      <th>Efficiency_WhKm</th>\n",
              "      <th>FastCharge_KmH</th>\n",
              "      <th>RapidCharge</th>\n",
              "      <th>PowerTrain</th>\n",
              "      <th>PlugType</th>\n",
              "      <th>BodyStyle</th>\n",
              "      <th>Segment</th>\n",
              "      <th>Seats</th>\n",
              "      <th>PriceEuro</th>\n",
              "    </tr>\n",
              "  </thead>\n",
              "  <tbody>\n",
              "    <tr>\n",
              "      <th>0</th>\n",
              "      <td>-0.926655</td>\n",
              "      <td>1.234842</td>\n",
              "      <td>0.882546</td>\n",
              "      <td>-0.952589</td>\n",
              "      <td>2.300996</td>\n",
              "      <td>0.224778</td>\n",
              "      <td>-1.070398</td>\n",
              "      <td>0.200029</td>\n",
              "      <td>1.161775</td>\n",
              "      <td>0.222937</td>\n",
              "      <td>0.146393</td>\n",
              "      <td>-0.009713</td>\n",
              "    </tr>\n",
              "    <tr>\n",
              "      <th>1</th>\n",
              "      <td>0.862947</td>\n",
              "      <td>-0.440506</td>\n",
              "      <td>-0.545861</td>\n",
              "      <td>-0.749659</td>\n",
              "      <td>-0.840222</td>\n",
              "      <td>0.224778</td>\n",
              "      <td>1.464108</td>\n",
              "      <td>0.200029</td>\n",
              "      <td>-1.223531</td>\n",
              "      <td>-0.365845</td>\n",
              "      <td>0.146393</td>\n",
              "      <td>-0.756169</td>\n",
              "    </tr>\n",
              "    <tr>\n",
              "      <th>2</th>\n",
              "      <td>-0.893514</td>\n",
              "      <td>0.706993</td>\n",
              "      <td>0.485766</td>\n",
              "      <td>-0.276156</td>\n",
              "      <td>0.844199</td>\n",
              "      <td>0.224778</td>\n",
              "      <td>-1.070398</td>\n",
              "      <td>0.200029</td>\n",
              "      <td>-0.825980</td>\n",
              "      <td>0.222937</td>\n",
              "      <td>0.146393</td>\n",
              "      <td>0.018411</td>\n",
              "    </tr>\n",
              "    <tr>\n",
              "      <th>3</th>\n",
              "      <td>-0.197558</td>\n",
              "      <td>0.018494</td>\n",
              "      <td>0.168343</td>\n",
              "      <td>0.569386</td>\n",
              "      <td>0.571050</td>\n",
              "      <td>0.224778</td>\n",
              "      <td>1.464108</td>\n",
              "      <td>0.200029</td>\n",
              "      <td>0.764224</td>\n",
              "      <td>0.222937</td>\n",
              "      <td>0.146393</td>\n",
              "      <td>0.358241</td>\n",
              "    </tr>\n",
              "    <tr>\n",
              "      <th>4</th>\n",
              "      <td>0.697243</td>\n",
              "      <td>-0.784755</td>\n",
              "      <td>-1.339421</td>\n",
              "      <td>-0.715837</td>\n",
              "      <td>-1.113371</td>\n",
              "      <td>0.224778</td>\n",
              "      <td>1.464108</td>\n",
              "      <td>0.200029</td>\n",
              "      <td>-1.223531</td>\n",
              "      <td>-0.954627</td>\n",
              "      <td>-1.110149</td>\n",
              "      <td>-0.668369</td>\n",
              "    </tr>\n",
              "  </tbody>\n",
              "</table>\n",
              "</div>\n",
              "      <button class=\"colab-df-convert\" onclick=\"convertToInteractive('df-373da11a-2b54-4e4f-ada2-5698cc2680ba')\"\n",
              "              title=\"Convert this dataframe to an interactive table.\"\n",
              "              style=\"display:none;\">\n",
              "        \n",
              "  <svg xmlns=\"http://www.w3.org/2000/svg\" height=\"24px\"viewBox=\"0 0 24 24\"\n",
              "       width=\"24px\">\n",
              "    <path d=\"M0 0h24v24H0V0z\" fill=\"none\"/>\n",
              "    <path d=\"M18.56 5.44l.94 2.06.94-2.06 2.06-.94-2.06-.94-.94-2.06-.94 2.06-2.06.94zm-11 1L8.5 8.5l.94-2.06 2.06-.94-2.06-.94L8.5 2.5l-.94 2.06-2.06.94zm10 10l.94 2.06.94-2.06 2.06-.94-2.06-.94-.94-2.06-.94 2.06-2.06.94z\"/><path d=\"M17.41 7.96l-1.37-1.37c-.4-.4-.92-.59-1.43-.59-.52 0-1.04.2-1.43.59L10.3 9.45l-7.72 7.72c-.78.78-.78 2.05 0 2.83L4 21.41c.39.39.9.59 1.41.59.51 0 1.02-.2 1.41-.59l7.78-7.78 2.81-2.81c.8-.78.8-2.07 0-2.86zM5.41 20L4 18.59l7.72-7.72 1.47 1.35L5.41 20z\"/>\n",
              "  </svg>\n",
              "      </button>\n",
              "      \n",
              "  <style>\n",
              "    .colab-df-container {\n",
              "      display:flex;\n",
              "      flex-wrap:wrap;\n",
              "      gap: 12px;\n",
              "    }\n",
              "\n",
              "    .colab-df-convert {\n",
              "      background-color: #E8F0FE;\n",
              "      border: none;\n",
              "      border-radius: 50%;\n",
              "      cursor: pointer;\n",
              "      display: none;\n",
              "      fill: #1967D2;\n",
              "      height: 32px;\n",
              "      padding: 0 0 0 0;\n",
              "      width: 32px;\n",
              "    }\n",
              "\n",
              "    .colab-df-convert:hover {\n",
              "      background-color: #E2EBFA;\n",
              "      box-shadow: 0px 1px 2px rgba(60, 64, 67, 0.3), 0px 1px 3px 1px rgba(60, 64, 67, 0.15);\n",
              "      fill: #174EA6;\n",
              "    }\n",
              "\n",
              "    [theme=dark] .colab-df-convert {\n",
              "      background-color: #3B4455;\n",
              "      fill: #D2E3FC;\n",
              "    }\n",
              "\n",
              "    [theme=dark] .colab-df-convert:hover {\n",
              "      background-color: #434B5C;\n",
              "      box-shadow: 0px 1px 3px 1px rgba(0, 0, 0, 0.15);\n",
              "      filter: drop-shadow(0px 1px 2px rgba(0, 0, 0, 0.3));\n",
              "      fill: #FFFFFF;\n",
              "    }\n",
              "  </style>\n",
              "\n",
              "      <script>\n",
              "        const buttonEl =\n",
              "          document.querySelector('#df-373da11a-2b54-4e4f-ada2-5698cc2680ba button.colab-df-convert');\n",
              "        buttonEl.style.display =\n",
              "          google.colab.kernel.accessAllowed ? 'block' : 'none';\n",
              "\n",
              "        async function convertToInteractive(key) {\n",
              "          const element = document.querySelector('#df-373da11a-2b54-4e4f-ada2-5698cc2680ba');\n",
              "          const dataTable =\n",
              "            await google.colab.kernel.invokeFunction('convertToInteractive',\n",
              "                                                     [key], {});\n",
              "          if (!dataTable) return;\n",
              "\n",
              "          const docLinkHtml = 'Like what you see? Visit the ' +\n",
              "            '<a target=\"_blank\" href=https://colab.research.google.com/notebooks/data_table.ipynb>data table notebook</a>'\n",
              "            + ' to learn more about interactive tables.';\n",
              "          element.innerHTML = '';\n",
              "          dataTable['output_type'] = 'display_data';\n",
              "          await google.colab.output.renderOutput(dataTable, element);\n",
              "          const docLink = document.createElement('div');\n",
              "          docLink.innerHTML = docLinkHtml;\n",
              "          element.appendChild(docLink);\n",
              "        }\n",
              "      </script>\n",
              "    </div>\n",
              "  </div>\n",
              "  "
            ]
          },
          "metadata": {},
          "execution_count": 54
        }
      ]
    },
    {
      "cell_type": "code",
      "source": [
        "pca.fit(dat1)\n",
        "pca.explained_variance_ratio_"
      ],
      "metadata": {
        "colab": {
          "base_uri": "https://localhost:8080/"
        },
        "id": "GawPh4yOQfku",
        "outputId": "dc3595c0-ad71-473c-eea2-17574cee56cf"
      },
      "execution_count": 55,
      "outputs": [
        {
          "output_type": "execute_result",
          "data": {
            "text/plain": [
              "array([0.47365808, 0.13839266, 0.11165171, 0.06632291, 0.05412252,\n",
              "       0.0488026 , 0.03353862, 0.02563409, 0.0172773 , 0.01520371,\n",
              "       0.00815705, 0.00723875])"
            ]
          },
          "metadata": {},
          "execution_count": 55
        }
      ]
    },
    {
      "cell_type": "code",
      "source": [
        "plt.figure(figsize=(4,4))\n",
        "plt.plot(range(1,13),pca.explained_variance_ratio_.cumsum(),marker=\"o\")\n",
        "plt.title(\"explained variance by components\")\n",
        "plt.xlabel(\"Number of components\")\n",
        "plt.ylabel(\"Cumulative explained variance\")"
      ],
      "metadata": {
        "colab": {
          "base_uri": "https://localhost:8080/",
          "height": 312
        },
        "id": "tE90jfgjT3g6",
        "outputId": "e76231d9-9653-4c09-fe5a-bf51ca81e7db"
      },
      "execution_count": 56,
      "outputs": [
        {
          "output_type": "execute_result",
          "data": {
            "text/plain": [
              "Text(0, 0.5, 'Cumulative explained variance')"
            ]
          },
          "metadata": {},
          "execution_count": 56
        },
        {
          "output_type": "display_data",
          "data": {
            "text/plain": [
              "<Figure size 288x288 with 1 Axes>"
            ],
            "image/png": "[encoded data removed]"
          },
          "metadata": {
            "needs_background": "light"
          }
        }
      ]
    },
    {
      "cell_type": "code",
      "source": [
        "pca = PCA(0.80)\n",
        "pc = pca.fit_transform(dat1) # << to retain the components in an object\n",
        "pc\n",
        "\n",
        "#pca.explained_variance_ratio_\n",
        "print ( \"Components = \", pca.n_components_ , \";\\nTotal explained variance = \",\n",
        "      round(pca.explained_variance_ratio_.sum(),5)  )"
      ],
      "metadata": {
        "colab": {
          "base_uri": "https://localhost:8080/"
        },
        "id": "gzkm-ljaiJ1I",
        "outputId": "4adc953e-1913-4551-9dda-084775bd5ddf"
      },
      "execution_count": 57,
      "outputs": [
        {
          "output_type": "stream",
          "name": "stdout",
          "text": [
            "Components =  5 ;\n",
            "Total explained variance =  0.84415\n"
          ]
        }
      ]
    },
    {
      "cell_type": "code",
      "source": [
        "pca = PCA(n_components=5)\n",
        "pca.fit(dat1)\n",
        "scores_pca = pca.transform(dat1)"
      ],
      "metadata": {
        "id": "lG7kuUC-iYRT"
      },
      "execution_count": 58,
      "outputs": []
    },
    {
      "cell_type": "code",
      "source": [
        "from sklearn.decomposition import PCA\n",
        "from sklearn import preprocessing\n",
        "from sklearn.cluster import KMeans\n",
        "from scipy.cluster.hierarchy import linkage, dendrogram\n",
        "from sklearn.cluster import AgglomerativeClustering\n",
        "\n",
        "#define k value\n",
        "wcss = []\n",
        "for k in range(1,15):\n",
        "    kmeans_pca = KMeans(n_clusters=k, init=\"k-means++\", random_state=42)\n",
        "    kmeans_pca.fit(scores_pca)\n",
        "    wcss.append(kmeans_pca.inertia_)\n",
        "\n",
        "# the best value is elbow value. It's 4.\n",
        "plt.figure(figsize=(10,5))\n",
        "plt.plot(range(1,15),wcss,marker=\"o\")\n",
        "plt.xlabel(\"number of k (cluster) value\")\n",
        "plt.ylabel(\"wcss\")\n",
        "plt.show()"
      ],
      "metadata": {
        "colab": {
          "base_uri": "https://localhost:8080/",
          "height": 334
        },
        "id": "PeraTY77jzSk",
        "outputId": "a75dfd2d-39e1-4297-eaa9-ab26aaa6a73f"
      },
      "execution_count": 59,
      "outputs": [
        {
          "output_type": "display_data",
          "data": {
            "text/plain": [
              "<Figure size 720x360 with 1 Axes>"
            ],
            "image/png": "[encoded data removed]"
          },
          "metadata": {
            "needs_background": "light"
          }
        }
      ]
    },
    {
      "cell_type": "code",
      "source": [
        "kmeans_pca = KMeans(4, init = 'k-means++', random_state=42).fit(dat1)\n",
        "kmeans_pca.fit(scores_pca)"
      ],
      "metadata": {
        "colab": {
          "base_uri": "https://localhost:8080/"
        },
        "id": "bhGKuPwkkEXk",
        "outputId": "bc60cedd-d5fb-4998-8aac-a8d85ab4636c"
      },
      "execution_count": 60,
      "outputs": [
        {
          "output_type": "execute_result",
          "data": {
            "text/plain": [
              "KMeans(n_clusters=4, random_state=42)"
            ]
          },
          "metadata": {},
          "execution_count": 60
        }
      ]
    },
    {
      "cell_type": "code",
      "source": [
        "dat1 = pd.concat([dat1,pd.DataFrame(scores_pca)], axis=1)\n",
        "dat1.columns.values[-5:] = ['Component 1','Component 2','Component 3','Component 4','Component 5']\n",
        "dat1['cluster_number'] = kmeans_pca.labels_\n",
        "dat1"
      ],
      "metadata": {
        "colab": {
          "base_uri": "https://localhost:8080/",
          "height": 505
        },
        "id": "lyQ9VcVVkMtP",
        "outputId": "8e0cd3c7-e589-404e-e728-4f7821d26c03"
      },
      "execution_count": 61,
      "outputs": [
        {
          "output_type": "execute_result",
          "data": {
            "text/plain": [
              "     AccelSec  TopSpeed_KmH  Range_Km  Efficiency_WhKm  FastCharge_KmH  \\\n",
              "0   -0.926655      1.234842  0.882546        -0.952589        2.300996   \n",
              "1    0.862947     -0.440506 -0.545861        -0.749659       -0.840222   \n",
              "2   -0.893514      0.706993  0.485766        -0.276156        0.844199   \n",
              "3   -0.197558      0.018494  0.168343         0.569386        0.571050   \n",
              "4    0.697243     -0.784755 -1.339421        -0.715837       -1.113371   \n",
              "..        ...           ...       ...              ...             ...   \n",
              "98   0.034428     -0.440506 -0.069725         0.062061        0.024751   \n",
              "99  -0.959796      0.706993 -0.030047         2.328113        0.480000   \n",
              "100 -0.495825      0.477493 -0.109403         0.163526        0.024751   \n",
              "101 -0.760951      0.477493  0.287377         1.448750        0.070276   \n",
              "102  0.034428      0.247993  0.485766         1.651680        0.206851   \n",
              "\n",
              "     RapidCharge  PowerTrain  PlugType  BodyStyle   Segment     Seats  \\\n",
              "0       0.224778   -1.070398  0.200029   1.161775  0.222937  0.146393   \n",
              "1       0.224778    1.464108  0.200029  -1.223531 -0.365845  0.146393   \n",
              "2       0.224778   -1.070398  0.200029  -0.825980  0.222937  0.146393   \n",
              "3       0.224778    1.464108  0.200029   0.764224  0.222937  0.146393   \n",
              "4       0.224778    1.464108  0.200029  -1.223531 -0.954627 -1.110149   \n",
              "..           ...         ...       ...        ...       ...       ...   \n",
              "98      0.224778    0.196855  0.200029  -1.223531 -0.365845  0.146393   \n",
              "99      0.224778   -1.070398  0.200029   0.764224  0.811719  0.146393   \n",
              "100     0.224778   -1.070398  0.200029  -1.223531 -0.365845  0.146393   \n",
              "101     0.224778   -1.070398  0.200029  -1.223531 -0.365845  0.146393   \n",
              "102     0.224778   -1.070398  0.200029   0.764224  0.811719  0.146393   \n",
              "\n",
              "     PriceEuro  Component 1  Component 2  Component 3  Component 4  \\\n",
              "0    -0.009713     2.412535    -0.641503     0.611475     0.151340   \n",
              "1    -0.756169    -2.126217    -0.610228     0.027193     0.980215   \n",
              "2     0.018411     1.275526    -0.404376     0.738924     0.686376   \n",
              "3     0.358241     0.499400    -0.193276    -0.292985    -0.306704   \n",
              "4    -0.668369    -2.933659    -0.656630     0.752109    -0.022634   \n",
              "..         ...          ...          ...          ...          ...   \n",
              "98   -0.316733    -0.648083    -0.515079     0.161528     0.641074   \n",
              "99    1.178814     2.544044     0.689913    -0.580171    -1.424522   \n",
              "100  -0.170254     0.301601    -0.358521     0.442713     0.422636   \n",
              "101   0.269182     1.001775    -0.047404     0.271702     0.023620   \n",
              "102   0.181295     1.603618     0.472708    -0.915821    -0.893674   \n",
              "\n",
              "     Component 5  cluster_number  \n",
              "0      -1.814238               0  \n",
              "1       0.422924               1  \n",
              "2       0.252588               2  \n",
              "3      -0.213927               2  \n",
              "4       0.472308               1  \n",
              "..           ...             ...  \n",
              "98      0.861106               1  \n",
              "99      1.079450               2  \n",
              "100     0.864730               2  \n",
              "101     1.712649               2  \n",
              "102     0.776743               2  \n",
              "\n",
              "[103 rows x 18 columns]"
            ],
            "text/html": [
              "\n",
              "  <div id=\"df-0b030b33-5976-4972-b4b4-4a2d36e25794\">\n",
              "    <div class=\"colab-df-container\">\n",
              "      <div>\n",
              "<style scoped>\n",
              "    .dataframe tbody tr th:only-of-type {\n",
              "        vertical-align: middle;\n",
              "    }\n",
              "\n",
              "    .dataframe tbody tr th {\n",
              "        vertical-align: top;\n",
              "    }\n",
              "\n",
              "    .dataframe thead th {\n",
              "        text-align: right;\n",
              "    }\n",
              "</style>\n",
              "<table border=\"1\" class=\"dataframe\">\n",
              "  <thead>\n",
              "    <tr style=\"text-align: right;\">\n",
              "      <th></th>\n",
              "      <th>AccelSec</th>\n",
              "      <th>TopSpeed_KmH</th>\n",
              "      <th>Range_Km</th>\n",
              "      <th>Efficiency_WhKm</th>\n",
              "      <th>FastCharge_KmH</th>\n",
              "      <th>RapidCharge</th>\n",
              "      <th>PowerTrain</th>\n",
              "      <th>PlugType</th>\n",
              "      <th>BodyStyle</th>\n",
              "      <th>Segment</th>\n",
              "      <th>Seats</th>\n",
              "      <th>PriceEuro</th>\n",
              "      <th>Component 1</th>\n",
              "      <th>Component 2</th>\n",
              "      <th>Component 3</th>\n",
              "      <th>Component 4</th>\n",
              "      <th>Component 5</th>\n",
              "      <th>cluster_number</th>\n",
              "    </tr>\n",
              "  </thead>\n",
              "  <tbody>\n",
              "    <tr>\n",
              "      <th>0</th>\n",
              "      <td>-0.926655</td>\n",
              "      <td>1.234842</td>\n",
              "      <td>0.882546</td>\n",
              "      <td>-0.952589</td>\n",
              "      <td>2.300996</td>\n",
              "      <td>0.224778</td>\n",
              "      <td>-1.070398</td>\n",
              "      <td>0.200029</td>\n",
              "      <td>1.161775</td>\n",
              "      <td>0.222937</td>\n",
              "      <td>0.146393</td>\n",
              "      <td>-0.009713</td>\n",
              "      <td>2.412535</td>\n",
              "      <td>-0.641503</td>\n",
              "      <td>0.611475</td>\n",
              "      <td>0.151340</td>\n",
              "      <td>-1.814238</td>\n",
              "      <td>0</td>\n",
              "    </tr>\n",
              "    <tr>\n",
              "      <th>1</th>\n",
              "      <td>0.862947</td>\n",
              "      <td>-0.440506</td>\n",
              "      <td>-0.545861</td>\n",
              "      <td>-0.749659</td>\n",
              "      <td>-0.840222</td>\n",
              "      <td>0.224778</td>\n",
              "      <td>1.464108</td>\n",
              "      <td>0.200029</td>\n",
              "      <td>-1.223531</td>\n",
              "      <td>-0.365845</td>\n",
              "      <td>0.146393</td>\n",
              "      <td>-0.756169</td>\n",
              "      <td>-2.126217</td>\n",
              "      <td>-0.610228</td>\n",
              "      <td>0.027193</td>\n",
              "      <td>0.980215</td>\n",
              "      <td>0.422924</td>\n",
              "      <td>1</td>\n",
              "    </tr>\n",
              "    <tr>\n",
              "      <th>2</th>\n",
              "      <td>-0.893514</td>\n",
              "      <td>0.706993</td>\n",
              "      <td>0.485766</td>\n",
              "      <td>-0.276156</td>\n",
              "      <td>0.844199</td>\n",
              "      <td>0.224778</td>\n",
              "      <td>-1.070398</td>\n",
              "      <td>0.200029</td>\n",
              "      <td>-0.825980</td>\n",
              "      <td>0.222937</td>\n",
              "      <td>0.146393</td>\n",
              "      <td>0.018411</td>\n",
              "      <td>1.275526</td>\n",
              "      <td>-0.404376</td>\n",
              "      <td>0.738924</td>\n",
              "      <td>0.686376</td>\n",
              "      <td>0.252588</td>\n",
              "      <td>2</td>\n",
              "    </tr>\n",
              "    <tr>\n",
              "      <th>3</th>\n",
              "      <td>-0.197558</td>\n",
              "      <td>0.018494</td>\n",
              "      <td>0.168343</td>\n",
              "      <td>0.569386</td>\n",
              "      <td>0.571050</td>\n",
              "      <td>0.224778</td>\n",
              "      <td>1.464108</td>\n",
              "      <td>0.200029</td>\n",
              "      <td>0.764224</td>\n",
              "      <td>0.222937</td>\n",
              "      <td>0.146393</td>\n",
              "      <td>0.358241</td>\n",
              "      <td>0.499400</td>\n",
              "      <td>-0.193276</td>\n",
              "      <td>-0.292985</td>\n",
              "      <td>-0.306704</td>\n",
              "      <td>-0.213927</td>\n",
              "      <td>2</td>\n",
              "    </tr>\n",
              "    <tr>\n",
              "      <th>4</th>\n",
              "      <td>0.697243</td>\n",
              "      <td>-0.784755</td>\n",
              "      <td>-1.339421</td>\n",
              "      <td>-0.715837</td>\n",
              "      <td>-1.113371</td>\n",
              "      <td>0.224778</td>\n",
              "      <td>1.464108</td>\n",
              "      <td>0.200029</td>\n",
              "      <td>-1.223531</td>\n",
              "      <td>-0.954627</td>\n",
              "      <td>-1.110149</td>\n",
              "      <td>-0.668369</td>\n",
              "      <td>-2.933659</td>\n",
              "      <td>-0.656630</td>\n",
              "      <td>0.752109</td>\n",
              "      <td>-0.022634</td>\n",
              "      <td>0.472308</td>\n",
              "      <td>1</td>\n",
              "    </tr>\n",
              "    <tr>\n",
              "      <th>...</th>\n",
              "      <td>...</td>\n",
              "      <td>...</td>\n",
              "      <td>...</td>\n",
              "      <td>...</td>\n",
              "      <td>...</td>\n",
              "      <td>...</td>\n",
              "      <td>...</td>\n",
              "      <td>...</td>\n",
              "      <td>...</td>\n",
              "      <td>...</td>\n",
              "      <td>...</td>\n",
              "      <td>...</td>\n",
              "      <td>...</td>\n",
              "      <td>...</td>\n",
              "      <td>...</td>\n",
              "      <td>...</td>\n",
              "      <td>...</td>\n",
              "      <td>...</td>\n",
              "    </tr>\n",
              "    <tr>\n",
              "      <th>98</th>\n",
              "      <td>0.034428</td>\n",
              "      <td>-0.440506</td>\n",
              "      <td>-0.069725</td>\n",
              "      <td>0.062061</td>\n",
              "      <td>0.024751</td>\n",
              "      <td>0.224778</td>\n",
              "      <td>0.196855</td>\n",
              "      <td>0.200029</td>\n",
              "      <td>-1.223531</td>\n",
              "      <td>-0.365845</td>\n",
              "      <td>0.146393</td>\n",
              "      <td>-0.316733</td>\n",
              "      <td>-0.648083</td>\n",
              "      <td>-0.515079</td>\n",
              "      <td>0.161528</td>\n",
              "      <td>0.641074</td>\n",
              "      <td>0.861106</td>\n",
              "      <td>1</td>\n",
              "    </tr>\n",
              "    <tr>\n",
              "      <th>99</th>\n",
              "      <td>-0.959796</td>\n",
              "      <td>0.706993</td>\n",
              "      <td>-0.030047</td>\n",
              "      <td>2.328113</td>\n",
              "      <td>0.480000</td>\n",
              "      <td>0.224778</td>\n",
              "      <td>-1.070398</td>\n",
              "      <td>0.200029</td>\n",
              "      <td>0.764224</td>\n",
              "      <td>0.811719</td>\n",
              "      <td>0.146393</td>\n",
              "      <td>1.178814</td>\n",
              "      <td>2.544044</td>\n",
              "      <td>0.689913</td>\n",
              "      <td>-0.580171</td>\n",
              "      <td>-1.424522</td>\n",
              "      <td>1.079450</td>\n",
              "      <td>2</td>\n",
              "    </tr>\n",
              "    <tr>\n",
              "      <th>100</th>\n",
              "      <td>-0.495825</td>\n",
              "      <td>0.477493</td>\n",
              "      <td>-0.109403</td>\n",
              "      <td>0.163526</td>\n",
              "      <td>0.024751</td>\n",
              "      <td>0.224778</td>\n",
              "      <td>-1.070398</td>\n",
              "      <td>0.200029</td>\n",
              "      <td>-1.223531</td>\n",
              "      <td>-0.365845</td>\n",
              "      <td>0.146393</td>\n",
              "      <td>-0.170254</td>\n",
              "      <td>0.301601</td>\n",
              "      <td>-0.358521</td>\n",
              "      <td>0.442713</td>\n",
              "      <td>0.422636</td>\n",
              "      <td>0.864730</td>\n",
              "      <td>2</td>\n",
              "    </tr>\n",
              "    <tr>\n",
              "      <th>101</th>\n",
              "      <td>-0.760951</td>\n",
              "      <td>0.477493</td>\n",
              "      <td>0.287377</td>\n",
              "      <td>1.448750</td>\n",
              "      <td>0.070276</td>\n",
              "      <td>0.224778</td>\n",
              "      <td>-1.070398</td>\n",
              "      <td>0.200029</td>\n",
              "      <td>-1.223531</td>\n",
              "      <td>-0.365845</td>\n",
              "      <td>0.146393</td>\n",
              "      <td>0.269182</td>\n",
              "      <td>1.001775</td>\n",
              "      <td>-0.047404</td>\n",
              "      <td>0.271702</td>\n",
              "      <td>0.023620</td>\n",
              "      <td>1.712649</td>\n",
              "      <td>2</td>\n",
              "    </tr>\n",
              "    <tr>\n",
              "      <th>102</th>\n",
              "      <td>0.034428</td>\n",
              "      <td>0.247993</td>\n",
              "      <td>0.485766</td>\n",
              "      <td>1.651680</td>\n",
              "      <td>0.206851</td>\n",
              "      <td>0.224778</td>\n",
              "      <td>-1.070398</td>\n",
              "      <td>0.200029</td>\n",
              "      <td>0.764224</td>\n",
              "      <td>0.811719</td>\n",
              "      <td>0.146393</td>\n",
              "      <td>0.181295</td>\n",
              "      <td>1.603618</td>\n",
              "      <td>0.472708</td>\n",
              "      <td>-0.915821</td>\n",
              "      <td>-0.893674</td>\n",
              "      <td>0.776743</td>\n",
              "      <td>2</td>\n",
              "    </tr>\n",
              "  </tbody>\n",
              "</table>\n",
              "<p>103 rows × 18 columns</p>\n",
              "</div>\n",
              "      <button class=\"colab-df-convert\" onclick=\"convertToInteractive('df-0b030b33-5976-4972-b4b4-4a2d36e25794')\"\n",
              "              title=\"Convert this dataframe to an interactive table.\"\n",
              "              style=\"display:none;\">\n",
              "        \n",
              "  <svg xmlns=\"http://www.w3.org/2000/svg\" height=\"24px\"viewBox=\"0 0 24 24\"\n",
              "       width=\"24px\">\n",
              "    <path d=\"M0 0h24v24H0V0z\" fill=\"none\"/>\n",
              "    <path d=\"M18.56 5.44l.94 2.06.94-2.06 2.06-.94-2.06-.94-.94-2.06-.94 2.06-2.06.94zm-11 1L8.5 8.5l.94-2.06 2.06-.94-2.06-.94L8.5 2.5l-.94 2.06-2.06.94zm10 10l.94 2.06.94-2.06 2.06-.94-2.06-.94-.94-2.06-.94 2.06-2.06.94z\"/><path d=\"M17.41 7.96l-1.37-1.37c-.4-.4-.92-.59-1.43-.59-.52 0-1.04.2-1.43.59L10.3 9.45l-7.72 7.72c-.78.78-.78 2.05 0 2.83L4 21.41c.39.39.9.59 1.41.59.51 0 1.02-.2 1.41-.59l7.78-7.78 2.81-2.81c.8-.78.8-2.07 0-2.86zM5.41 20L4 18.59l7.72-7.72 1.47 1.35L5.41 20z\"/>\n",
              "  </svg>\n",
              "      </button>\n",
              "      \n",
              "  <style>\n",
              "    .colab-df-container {\n",
              "      display:flex;\n",
              "      flex-wrap:wrap;\n",
              "      gap: 12px;\n",
              "    }\n",
              "\n",
              "    .colab-df-convert {\n",
              "      background-color: #E8F0FE;\n",
              "      border: none;\n",
              "      border-radius: 50%;\n",
              "      cursor: pointer;\n",
              "      display: none;\n",
              "      fill: #1967D2;\n",
              "      height: 32px;\n",
              "      padding: 0 0 0 0;\n",
              "      width: 32px;\n",
              "    }\n",
              "\n",
              "    .colab-df-convert:hover {\n",
              "      background-color: #E2EBFA;\n",
              "      box-shadow: 0px 1px 2px rgba(60, 64, 67, 0.3), 0px 1px 3px 1px rgba(60, 64, 67, 0.15);\n",
              "      fill: #174EA6;\n",
              "    }\n",
              "\n",
              "    [theme=dark] .colab-df-convert {\n",
              "      background-color: #3B4455;\n",
              "      fill: #D2E3FC;\n",
              "    }\n",
              "\n",
              "    [theme=dark] .colab-df-convert:hover {\n",
              "      background-color: #434B5C;\n",
              "      box-shadow: 0px 1px 3px 1px rgba(0, 0, 0, 0.15);\n",
              "      filter: drop-shadow(0px 1px 2px rgba(0, 0, 0, 0.3));\n",
              "      fill: #FFFFFF;\n",
              "    }\n",
              "  </style>\n",
              "\n",
              "      <script>\n",
              "        const buttonEl =\n",
              "          document.querySelector('#df-0b030b33-5976-4972-b4b4-4a2d36e25794 button.colab-df-convert');\n",
              "        buttonEl.style.display =\n",
              "          google.colab.kernel.accessAllowed ? 'block' : 'none';\n",
              "\n",
              "        async function convertToInteractive(key) {\n",
              "          const element = document.querySelector('#df-0b030b33-5976-4972-b4b4-4a2d36e25794');\n",
              "          const dataTable =\n",
              "            await google.colab.kernel.invokeFunction('convertToInteractive',\n",
              "                                                     [key], {});\n",
              "          if (!dataTable) return;\n",
              "\n",
              "          const docLinkHtml = 'Like what you see? Visit the ' +\n",
              "            '<a target=\"_blank\" href=https://colab.research.google.com/notebooks/data_table.ipynb>data table notebook</a>'\n",
              "            + ' to learn more about interactive tables.';\n",
              "          element.innerHTML = '';\n",
              "          dataTable['output_type'] = 'display_data';\n",
              "          await google.colab.output.renderOutput(dataTable, element);\n",
              "          const docLink = document.createElement('div');\n",
              "          docLink.innerHTML = docLinkHtml;\n",
              "          element.appendChild(docLink);\n",
              "        }\n",
              "      </script>\n",
              "    </div>\n",
              "  </div>\n",
              "  "
            ]
          },
          "metadata": {},
          "execution_count": 61
        }
      ]
    },
    {
      "cell_type": "code",
      "source": [
        "kmeans_pca = KMeans(n_clusters=k, init=\"k-means++\", random_state=42)\n",
        "data_predict = kmeans_pca.fit_predict(dat1)\n",
        "\n",
        "plt.figure(figsize=(8,8))\n",
        "#plt.scatter( x = 'Like' ,y = 'cluster_number' , data = dat1 , c = data_predict , s = 200, color=['red','green','blue','black'] )\n",
        "plt.scatter( x = 'PriceEuro' ,y = 'AccelSec' , data = dat1 , s = 200, c = data_predict)\n",
        "plt.xlabel(\"PriceEuro\")\n",
        "plt.ylabel(\"AccelSec\")\n",
        "plt.show()"
      ],
      "metadata": {
        "colab": {
          "base_uri": "https://localhost:8080/",
          "height": 497
        },
        "id": "616YvJHOklGL",
        "outputId": "a53a94e0-8d16-4081-a4c7-48caa1e75714"
      },
      "execution_count": 64,
      "outputs": [
        {
          "output_type": "display_data",
          "data": {
            "text/plain": [
              "<Figure size 576x576 with 1 Axes>"
            ],
            "image/png": "[encoded data removed]"
          },
          "metadata": {
            "needs_background": "light"
          }
        }
      ]
    },
    {
      "cell_type": "code",
      "source": [
        "plt.figure(figsize=(8,8))\n",
        "#plt.scatter( x = 'Like' ,y = 'cluster_number' , data = dat1 , c = data_predict , s = 200, color=['red','green','blue','black'] )\n",
        "plt.scatter( x = 'PriceEuro' ,y = 'PlugType' , data = dat1 , s = 200, c = data_predict)\n",
        "plt.xlabel(\"'PriceEuro\")\n",
        "plt.ylabel(\"PlugType\")\n",
        "plt.show()"
      ],
      "metadata": {
        "colab": {
          "base_uri": "https://localhost:8080/",
          "height": 497
        },
        "id": "Ls25gbNJky7n",
        "outputId": "80030acb-666d-452e-a86f-cd3f9f2d5a2a"
      },
      "execution_count": 65,
      "outputs": [
        {
          "output_type": "display_data",
          "data": {
            "text/plain": [
              "<Figure size 576x576 with 1 Axes>"
            ],
            "image/png": "[encoded data removed]"
          },
          "metadata": {
            "needs_background": "light"
          }
        }
      ]
    },
    {
      "cell_type": "code",
      "source": [
        "dat1[\"Segment1\"] = dat1[\"cluster_number\"].map({0:'first',\n",
        "                                          1:'second',\n",
        "                                          2:'third',\n",
        "                                          3:'fourth',\n",
        "                                          4:'fifth'})"
      ],
      "metadata": {
        "id": "Pe2Msh9Lm3hz"
      },
      "execution_count": 66,
      "outputs": []
    },
    {
      "cell_type": "code",
      "source": [
        "x_axis = dat1[\"Component 2\"]\n",
        "y_axis = dat1[\"Component 1\"]\n",
        "plt.figure(figsize=(6,6))\n",
        "sns.scatterplot(x_axis, y_axis, hue=dat1[\"Segment1\"], palette=['g','r','c','m'])\n",
        "plt.title(\"Clusters by PCA Components\")\n",
        "plt.show()"
      ],
      "metadata": {
        "colab": {
          "base_uri": "https://localhost:8080/",
          "height": 459
        },
        "id": "l75XOcI4nANK",
        "outputId": "f79ffdcf-d547-4559-941a-1d67d4473b09"
      },
      "execution_count": 67,
      "outputs": [
        {
          "output_type": "stream",
          "name": "stderr",
          "text": [
            "/usr/local/lib/python3.7/dist-packages/seaborn/_decorators.py:43: FutureWarning: Pass the following variables as keyword args: x, y. From version 0.12, the only valid positional argument will be `data`, and passing other arguments without an explicit keyword will result in an error or misinterpretation.\n",
            "  FutureWarning\n"
          ]
        },
        {
          "output_type": "display_data",
          "data": {
            "text/plain": [
              "<Figure size 432x432 with 1 Axes>"
            ],
            "image/png": "[encoded data removed]"
          },
          "metadata": {
            "needs_background": "light"
          }
        }
      ]
    },
    {
      "cell_type": "code",
      "source": [
        "sns.boxplot(x='cluster_number', y='PriceEuro', data=dat1)"
      ],
      "metadata": {
        "colab": {
          "base_uri": "https://localhost:8080/",
          "height": 297
        },
        "id": "J7bZ4YCkogUD",
        "outputId": "e249e3ae-13c5-48b4-a51d-afc6b2f9dce8"
      },
      "execution_count": 68,
      "outputs": [
        {
          "output_type": "execute_result",
          "data": {
            "text/plain": [
              "<matplotlib.axes._subplots.AxesSubplot at 0x7fda36ca83d0>"
            ]
          },
          "metadata": {},
          "execution_count": 68
        },
        {
          "output_type": "display_data",
          "data": {
            "text/plain": [
              "<Figure size 432x288 with 1 Axes>"
            ],
            "image/png": "[encoded data removed]"
          },
          "metadata": {
            "needs_background": "light"
          }
        }
      ]
    },
    {
      "cell_type": "code",
      "source": [
        "sns.boxplot(x='cluster_number', y='TopSpeed_KmH', data=dat1)"
      ],
      "metadata": {
        "colab": {
          "base_uri": "https://localhost:8080/",
          "height": 297
        },
        "id": "txThEnAGowCM",
        "outputId": "578d7e94-abea-4b80-9361-6586308a0d29"
      },
      "execution_count": 69,
      "outputs": [
        {
          "output_type": "execute_result",
          "data": {
            "text/plain": [
              "<matplotlib.axes._subplots.AxesSubplot at 0x7fda36c58d90>"
            ]
          },
          "metadata": {},
          "execution_count": 69
        },
        {
          "output_type": "display_data",
          "data": {
            "text/plain": [
              "<Figure size 432x288 with 1 Axes>"
            ],
            "image/png": "[encoded data removed]"
          },
          "metadata": {
            "needs_background": "light"
          }
        }
      ]
    },
    {
      "cell_type": "code",
      "source": [
        "sns.boxplot(x='cluster_number', y='PowerTrain', data=dat1)"
      ],
      "metadata": {
        "colab": {
          "base_uri": "https://localhost:8080/",
          "height": 297
        },
        "id": "BIj9cmJ7o5su",
        "outputId": "0afae551-f053-4df2-d84c-bf4b5b0cae53"
      },
      "execution_count": 70,
      "outputs": [
        {
          "output_type": "execute_result",
          "data": {
            "text/plain": [
              "<matplotlib.axes._subplots.AxesSubplot at 0x7fda36b6dad0>"
            ]
          },
          "metadata": {},
          "execution_count": 70
        },
        {
          "output_type": "display_data",
          "data": {
            "text/plain": [
              "<Figure size 432x288 with 1 Axes>"
            ],
            "image/png": "[encoded data removed]"
          },
          "metadata": {
            "needs_background": "light"
          }
        }
      ]
    },
    {
      "cell_type": "code",
      "source": [
        "sns.boxplot(x='cluster_number', y='Efficiency_WhKm', data=dat1)"
      ],
      "metadata": {
        "colab": {
          "base_uri": "https://localhost:8080/",
          "height": 297
        },
        "id": "Rps1gToThVct",
        "outputId": "75d6bee9-624b-43dc-893a-5263e0db2bb0"
      },
      "execution_count": 72,
      "outputs": [
        {
          "output_type": "execute_result",
          "data": {
            "text/plain": [
              "<matplotlib.axes._subplots.AxesSubplot at 0x7fda36a35350>"
            ]
          },
          "metadata": {},
          "execution_count": 72
        },
        {
          "output_type": "display_data",
          "data": {
            "text/plain": [
              "<Figure size 432x288 with 1 Axes>"
            ],
            "image/png": "[encoded data removed]"
          },
          "metadata": {
            "needs_background": "light"
          }
        }
      ]
    },
    {
      "cell_type": "code",
      "source": [
        ""
      ],
      "metadata": {
        "id": "2fNQvF_ShXRw"
      },
      "execution_count": null,
      "outputs": []
    }
  ]
}